{
 "cells": [
  {
   "attachments": {},
   "cell_type": "markdown",
   "metadata": {},
   "source": [
    "# Cloud Optical Thickness Prediction from Imaging Satellite Instruments"
   ]
  },
  {
   "cell_type": "code",
   "execution_count": 1,
   "metadata": {},
   "outputs": [],
   "source": [
    "import os\n",
    "import math\n",
    "import torch\n",
    "from torch import nn\n",
    "import torch.utils.data as Data\n",
    "from torch.utils.data import Dataset, DataLoader\n",
    "import torch.nn.functional as F\n",
    "\n",
    "import xarray as xr\n",
    "import numpy as np\n",
    "from sklearn.model_selection import train_test_split\n",
    "from scipy.special import logit\n",
    "from multiprocessing import Process\n",
    "from time import perf_counter\n",
    "\n",
    "import matplotlib.pyplot as plt"
   ]
  },
  {
   "cell_type": "code",
   "execution_count": 2,
   "metadata": {},
   "outputs": [],
   "source": [
    "# Description: 1 layer - 64 neurons, 200 epochs, cut off = -3, lr = 0.0001\n",
    "expname = '053104oci'"
   ]
  },
  {
   "cell_type": "code",
   "execution_count": 3,
   "metadata": {},
   "outputs": [
    {
     "data": {
      "text/html": [
       "<div><svg style=\"position: absolute; width: 0; height: 0; overflow: hidden\">\n",
       "<defs>\n",
       "<symbol id=\"icon-database\" viewBox=\"0 0 32 32\">\n",
       "<path d=\"M16 0c-8.837 0-16 2.239-16 5v4c0 2.761 7.163 5 16 5s16-2.239 16-5v-4c0-2.761-7.163-5-16-5z\"></path>\n",
       "<path d=\"M16 17c-8.837 0-16-2.239-16-5v6c0 2.761 7.163 5 16 5s16-2.239 16-5v-6c0 2.761-7.163 5-16 5z\"></path>\n",
       "<path d=\"M16 26c-8.837 0-16-2.239-16-5v6c0 2.761 7.163 5 16 5s16-2.239 16-5v-6c0 2.761-7.163 5-16 5z\"></path>\n",
       "</symbol>\n",
       "<symbol id=\"icon-file-text2\" viewBox=\"0 0 32 32\">\n",
       "<path d=\"M28.681 7.159c-0.694-0.947-1.662-2.053-2.724-3.116s-2.169-2.030-3.116-2.724c-1.612-1.182-2.393-1.319-2.841-1.319h-15.5c-1.378 0-2.5 1.121-2.5 2.5v27c0 1.378 1.122 2.5 2.5 2.5h23c1.378 0 2.5-1.122 2.5-2.5v-19.5c0-0.448-0.137-1.23-1.319-2.841zM24.543 5.457c0.959 0.959 1.712 1.825 2.268 2.543h-4.811v-4.811c0.718 0.556 1.584 1.309 2.543 2.268zM28 29.5c0 0.271-0.229 0.5-0.5 0.5h-23c-0.271 0-0.5-0.229-0.5-0.5v-27c0-0.271 0.229-0.5 0.5-0.5 0 0 15.499-0 15.5 0v7c0 0.552 0.448 1 1 1h7v19.5z\"></path>\n",
       "<path d=\"M23 26h-14c-0.552 0-1-0.448-1-1s0.448-1 1-1h14c0.552 0 1 0.448 1 1s-0.448 1-1 1z\"></path>\n",
       "<path d=\"M23 22h-14c-0.552 0-1-0.448-1-1s0.448-1 1-1h14c0.552 0 1 0.448 1 1s-0.448 1-1 1z\"></path>\n",
       "<path d=\"M23 18h-14c-0.552 0-1-0.448-1-1s0.448-1 1-1h14c0.552 0 1 0.448 1 1s-0.448 1-1 1z\"></path>\n",
       "</symbol>\n",
       "</defs>\n",
       "</svg>\n",
       "<style>/* CSS stylesheet for displaying xarray objects in jupyterlab.\n",
       " *\n",
       " */\n",
       "\n",
       ":root {\n",
       "  --xr-font-color0: var(--jp-content-font-color0, rgba(0, 0, 0, 1));\n",
       "  --xr-font-color2: var(--jp-content-font-color2, rgba(0, 0, 0, 0.54));\n",
       "  --xr-font-color3: var(--jp-content-font-color3, rgba(0, 0, 0, 0.38));\n",
       "  --xr-border-color: var(--jp-border-color2, #e0e0e0);\n",
       "  --xr-disabled-color: var(--jp-layout-color3, #bdbdbd);\n",
       "  --xr-background-color: var(--jp-layout-color0, white);\n",
       "  --xr-background-color-row-even: var(--jp-layout-color1, white);\n",
       "  --xr-background-color-row-odd: var(--jp-layout-color2, #eeeeee);\n",
       "}\n",
       "\n",
       "html[theme=dark],\n",
       "body.vscode-dark {\n",
       "  --xr-font-color0: rgba(255, 255, 255, 1);\n",
       "  --xr-font-color2: rgba(255, 255, 255, 0.54);\n",
       "  --xr-font-color3: rgba(255, 255, 255, 0.38);\n",
       "  --xr-border-color: #1F1F1F;\n",
       "  --xr-disabled-color: #515151;\n",
       "  --xr-background-color: #111111;\n",
       "  --xr-background-color-row-even: #111111;\n",
       "  --xr-background-color-row-odd: #313131;\n",
       "}\n",
       "\n",
       ".xr-wrap {\n",
       "  display: block;\n",
       "  min-width: 300px;\n",
       "  max-width: 700px;\n",
       "}\n",
       "\n",
       ".xr-text-repr-fallback {\n",
       "  /* fallback to plain text repr when CSS is not injected (untrusted notebook) */\n",
       "  display: none;\n",
       "}\n",
       "\n",
       ".xr-header {\n",
       "  padding-top: 6px;\n",
       "  padding-bottom: 6px;\n",
       "  margin-bottom: 4px;\n",
       "  border-bottom: solid 1px var(--xr-border-color);\n",
       "}\n",
       "\n",
       ".xr-header > div,\n",
       ".xr-header > ul {\n",
       "  display: inline;\n",
       "  margin-top: 0;\n",
       "  margin-bottom: 0;\n",
       "}\n",
       "\n",
       ".xr-obj-type,\n",
       ".xr-array-name {\n",
       "  margin-left: 2px;\n",
       "  margin-right: 10px;\n",
       "}\n",
       "\n",
       ".xr-obj-type {\n",
       "  color: var(--xr-font-color2);\n",
       "}\n",
       "\n",
       ".xr-sections {\n",
       "  padding-left: 0 !important;\n",
       "  display: grid;\n",
       "  grid-template-columns: 150px auto auto 1fr 20px 20px;\n",
       "}\n",
       "\n",
       ".xr-section-item {\n",
       "  display: contents;\n",
       "}\n",
       "\n",
       ".xr-section-item input {\n",
       "  display: none;\n",
       "}\n",
       "\n",
       ".xr-section-item input + label {\n",
       "  color: var(--xr-disabled-color);\n",
       "}\n",
       "\n",
       ".xr-section-item input:enabled + label {\n",
       "  cursor: pointer;\n",
       "  color: var(--xr-font-color2);\n",
       "}\n",
       "\n",
       ".xr-section-item input:enabled + label:hover {\n",
       "  color: var(--xr-font-color0);\n",
       "}\n",
       "\n",
       ".xr-section-summary {\n",
       "  grid-column: 1;\n",
       "  color: var(--xr-font-color2);\n",
       "  font-weight: 500;\n",
       "}\n",
       "\n",
       ".xr-section-summary > span {\n",
       "  display: inline-block;\n",
       "  padding-left: 0.5em;\n",
       "}\n",
       "\n",
       ".xr-section-summary-in:disabled + label {\n",
       "  color: var(--xr-font-color2);\n",
       "}\n",
       "\n",
       ".xr-section-summary-in + label:before {\n",
       "  display: inline-block;\n",
       "  content: '►';\n",
       "  font-size: 11px;\n",
       "  width: 15px;\n",
       "  text-align: center;\n",
       "}\n",
       "\n",
       ".xr-section-summary-in:disabled + label:before {\n",
       "  color: var(--xr-disabled-color);\n",
       "}\n",
       "\n",
       ".xr-section-summary-in:checked + label:before {\n",
       "  content: '▼';\n",
       "}\n",
       "\n",
       ".xr-section-summary-in:checked + label > span {\n",
       "  display: none;\n",
       "}\n",
       "\n",
       ".xr-section-summary,\n",
       ".xr-section-inline-details {\n",
       "  padding-top: 4px;\n",
       "  padding-bottom: 4px;\n",
       "}\n",
       "\n",
       ".xr-section-inline-details {\n",
       "  grid-column: 2 / -1;\n",
       "}\n",
       "\n",
       ".xr-section-details {\n",
       "  display: none;\n",
       "  grid-column: 1 / -1;\n",
       "  margin-bottom: 5px;\n",
       "}\n",
       "\n",
       ".xr-section-summary-in:checked ~ .xr-section-details {\n",
       "  display: contents;\n",
       "}\n",
       "\n",
       ".xr-array-wrap {\n",
       "  grid-column: 1 / -1;\n",
       "  display: grid;\n",
       "  grid-template-columns: 20px auto;\n",
       "}\n",
       "\n",
       ".xr-array-wrap > label {\n",
       "  grid-column: 1;\n",
       "  vertical-align: top;\n",
       "}\n",
       "\n",
       ".xr-preview {\n",
       "  color: var(--xr-font-color3);\n",
       "}\n",
       "\n",
       ".xr-array-preview,\n",
       ".xr-array-data {\n",
       "  padding: 0 5px !important;\n",
       "  grid-column: 2;\n",
       "}\n",
       "\n",
       ".xr-array-data,\n",
       ".xr-array-in:checked ~ .xr-array-preview {\n",
       "  display: none;\n",
       "}\n",
       "\n",
       ".xr-array-in:checked ~ .xr-array-data,\n",
       ".xr-array-preview {\n",
       "  display: inline-block;\n",
       "}\n",
       "\n",
       ".xr-dim-list {\n",
       "  display: inline-block !important;\n",
       "  list-style: none;\n",
       "  padding: 0 !important;\n",
       "  margin: 0;\n",
       "}\n",
       "\n",
       ".xr-dim-list li {\n",
       "  display: inline-block;\n",
       "  padding: 0;\n",
       "  margin: 0;\n",
       "}\n",
       "\n",
       ".xr-dim-list:before {\n",
       "  content: '(';\n",
       "}\n",
       "\n",
       ".xr-dim-list:after {\n",
       "  content: ')';\n",
       "}\n",
       "\n",
       ".xr-dim-list li:not(:last-child):after {\n",
       "  content: ',';\n",
       "  padding-right: 5px;\n",
       "}\n",
       "\n",
       ".xr-has-index {\n",
       "  font-weight: bold;\n",
       "}\n",
       "\n",
       ".xr-var-list,\n",
       ".xr-var-item {\n",
       "  display: contents;\n",
       "}\n",
       "\n",
       ".xr-var-item > div,\n",
       ".xr-var-item label,\n",
       ".xr-var-item > .xr-var-name span {\n",
       "  background-color: var(--xr-background-color-row-even);\n",
       "  margin-bottom: 0;\n",
       "}\n",
       "\n",
       ".xr-var-item > .xr-var-name:hover span {\n",
       "  padding-right: 5px;\n",
       "}\n",
       "\n",
       ".xr-var-list > li:nth-child(odd) > div,\n",
       ".xr-var-list > li:nth-child(odd) > label,\n",
       ".xr-var-list > li:nth-child(odd) > .xr-var-name span {\n",
       "  background-color: var(--xr-background-color-row-odd);\n",
       "}\n",
       "\n",
       ".xr-var-name {\n",
       "  grid-column: 1;\n",
       "}\n",
       "\n",
       ".xr-var-dims {\n",
       "  grid-column: 2;\n",
       "}\n",
       "\n",
       ".xr-var-dtype {\n",
       "  grid-column: 3;\n",
       "  text-align: right;\n",
       "  color: var(--xr-font-color2);\n",
       "}\n",
       "\n",
       ".xr-var-preview {\n",
       "  grid-column: 4;\n",
       "}\n",
       "\n",
       ".xr-var-name,\n",
       ".xr-var-dims,\n",
       ".xr-var-dtype,\n",
       ".xr-preview,\n",
       ".xr-attrs dt {\n",
       "  white-space: nowrap;\n",
       "  overflow: hidden;\n",
       "  text-overflow: ellipsis;\n",
       "  padding-right: 10px;\n",
       "}\n",
       "\n",
       ".xr-var-name:hover,\n",
       ".xr-var-dims:hover,\n",
       ".xr-var-dtype:hover,\n",
       ".xr-attrs dt:hover {\n",
       "  overflow: visible;\n",
       "  width: auto;\n",
       "  z-index: 1;\n",
       "}\n",
       "\n",
       ".xr-var-attrs,\n",
       ".xr-var-data {\n",
       "  display: none;\n",
       "  background-color: var(--xr-background-color) !important;\n",
       "  padding-bottom: 5px !important;\n",
       "}\n",
       "\n",
       ".xr-var-attrs-in:checked ~ .xr-var-attrs,\n",
       ".xr-var-data-in:checked ~ .xr-var-data {\n",
       "  display: block;\n",
       "}\n",
       "\n",
       ".xr-var-data > table {\n",
       "  float: right;\n",
       "}\n",
       "\n",
       ".xr-var-name span,\n",
       ".xr-var-data,\n",
       ".xr-attrs {\n",
       "  padding-left: 25px !important;\n",
       "}\n",
       "\n",
       ".xr-attrs,\n",
       ".xr-var-attrs,\n",
       ".xr-var-data {\n",
       "  grid-column: 1 / -1;\n",
       "}\n",
       "\n",
       "dl.xr-attrs {\n",
       "  padding: 0;\n",
       "  margin: 0;\n",
       "  display: grid;\n",
       "  grid-template-columns: 125px auto;\n",
       "}\n",
       "\n",
       ".xr-attrs dt,\n",
       ".xr-attrs dd {\n",
       "  padding: 0;\n",
       "  margin: 0;\n",
       "  float: left;\n",
       "  padding-right: 10px;\n",
       "  width: auto;\n",
       "}\n",
       "\n",
       ".xr-attrs dt {\n",
       "  font-weight: normal;\n",
       "  grid-column: 1;\n",
       "}\n",
       "\n",
       ".xr-attrs dt:hover span {\n",
       "  display: inline-block;\n",
       "  background: var(--xr-background-color);\n",
       "  padding-right: 10px;\n",
       "}\n",
       "\n",
       ".xr-attrs dd {\n",
       "  grid-column: 2;\n",
       "  white-space: pre-wrap;\n",
       "  word-break: break-all;\n",
       "}\n",
       "\n",
       ".xr-icon-database,\n",
       ".xr-icon-file-text2 {\n",
       "  display: inline-block;\n",
       "  vertical-align: middle;\n",
       "  width: 1em;\n",
       "  height: 1.5em !important;\n",
       "  stroke-width: 0;\n",
       "  stroke: currentColor;\n",
       "  fill: currentColor;\n",
       "}\n",
       "</style><pre class='xr-text-repr-fallback'>&lt;xarray.Dataset&gt;\n",
       "Dimensions:                        (npoints: 250000, nbands_oci: 223, nbands_modis: 11, nbands_viirs: 10)\n",
       "Coordinates:\n",
       "  * nbands_oci                     (nbands_oci) float32 350.0 ... 2.261e+03\n",
       "  * nbands_modis                   (nbands_modis) float32 412.0 ... 2.13e+03\n",
       "  * nbands_viirs                   (nbands_viirs) float32 412.0 ... 2.25e+03\n",
       "Dimensions without coordinates: npoints\n",
       "Data variables:\n",
       "    solar_zenith_angle             (npoints) float32 ...\n",
       "    viewing_zenith_angle           (npoints) float32 ...\n",
       "    relative_azimuth_angle         (npoints) float32 ...\n",
       "    albedo_type                    (npoints) int16 ...\n",
       "    oci_reflectances               (nbands_oci, npoints) float32 ...\n",
       "    modis_reflectances             (nbands_modis, npoints) float32 ...\n",
       "    viirs_reflectances             (nbands_viirs, npoints) float32 ...\n",
       "    scene_type                     (npoints) int16 ...\n",
       "    log10_cloud_optical_thickness  (npoints) float32 ...\n",
       "    spress                         (npoints) float32 ...\n",
       "    h2o                            (npoints) float32 ...\n",
       "    o3                             (npoints) float32 ...\n",
       "Attributes:\n",
       "    description:             Radiative transfer-based labelled training data ...\n",
       "    suffix:                  nc\n",
       "    version:                 Created 20230310\n",
       "    contact_person_address:  NASA/GSFC, Mail Code 616, 8800 Greenbelt Road, G...\n",
       "    contact_person_email:     andrew.sayer@nasa.gov\n",
       "    contact_person_name:      Andrew Sayer\n",
       "    contact_person_role:     Scientific/technical contact\n",
       "    data_set_language:       en\n",
       "    file_format:             NetCDF4</pre><div class='xr-wrap' hidden><div class='xr-header'><div class='xr-obj-type'>xarray.Dataset</div></div><ul class='xr-sections'><li class='xr-section-item'><input id='section-6395b917-fc79-46ab-a076-d591ceafc94e' class='xr-section-summary-in' type='checkbox' disabled ><label for='section-6395b917-fc79-46ab-a076-d591ceafc94e' class='xr-section-summary'  title='Expand/collapse section'>Dimensions:</label><div class='xr-section-inline-details'><ul class='xr-dim-list'><li><span>npoints</span>: 250000</li><li><span class='xr-has-index'>nbands_oci</span>: 223</li><li><span class='xr-has-index'>nbands_modis</span>: 11</li><li><span class='xr-has-index'>nbands_viirs</span>: 10</li></ul></div><div class='xr-section-details'></div></li><li class='xr-section-item'><input id='section-f17fff32-872a-4c69-9f13-29f9070d30eb' class='xr-section-summary-in' type='checkbox'  checked><label for='section-f17fff32-872a-4c69-9f13-29f9070d30eb' class='xr-section-summary' >Coordinates: <span>(3)</span></label><div class='xr-section-inline-details'></div><div class='xr-section-details'><ul class='xr-var-list'><li class='xr-var-item'><div class='xr-var-name'><span class='xr-has-index'>nbands_oci</span></div><div class='xr-var-dims'>(nbands_oci)</div><div class='xr-var-dtype'>float32</div><div class='xr-var-preview xr-preview'>350.0 352.5 ... 2.13e+03 2.261e+03</div><input id='attrs-39f42634-6d3d-487b-879e-da6f57aeb33e' class='xr-var-attrs-in' type='checkbox' ><label for='attrs-39f42634-6d3d-487b-879e-da6f57aeb33e' title='Show/Hide attributes'><svg class='icon xr-icon-file-text2'><use xlink:href='#icon-file-text2'></use></svg></label><input id='data-859b6dd6-93f8-42e6-a595-05a07120761c' class='xr-var-data-in' type='checkbox'><label for='data-859b6dd6-93f8-42e6-a595-05a07120761c' title='Show/Hide data repr'><svg class='icon xr-icon-database'><use xlink:href='#icon-database'></use></svg></label><div class='xr-var-attrs'><dl class='xr-attrs'><dt><span>long_name :</span></dt><dd>OCI band central wavelengths, nm</dd></dl></div><div class='xr-var-data'><pre>array([ 349.99408,  352.49432,  354.9942 , ..., 1616.101  , 2130.368  ,\n",
       "       2260.7073 ], dtype=float32)</pre></div></li><li class='xr-var-item'><div class='xr-var-name'><span class='xr-has-index'>nbands_modis</span></div><div class='xr-var-dims'>(nbands_modis)</div><div class='xr-var-dtype'>float32</div><div class='xr-var-preview xr-preview'>412.0 443.0 ... 1.64e+03 2.13e+03</div><input id='attrs-de3bad44-be25-4c06-ba9a-9b75c0004c58' class='xr-var-attrs-in' type='checkbox' ><label for='attrs-de3bad44-be25-4c06-ba9a-9b75c0004c58' title='Show/Hide attributes'><svg class='icon xr-icon-file-text2'><use xlink:href='#icon-file-text2'></use></svg></label><input id='data-e58b4cf6-a6cc-46e8-9099-b13ca4e2ff04' class='xr-var-data-in' type='checkbox'><label for='data-e58b4cf6-a6cc-46e8-9099-b13ca4e2ff04' title='Show/Hide data repr'><svg class='icon xr-icon-database'><use xlink:href='#icon-database'></use></svg></label><div class='xr-var-attrs'><dl class='xr-attrs'><dt><span>long_name :</span></dt><dd>MODIS band central wavelengths, nm</dd></dl></div><div class='xr-var-data'><pre>array([ 412.,  443.,  470.,  550.,  650.,  865.,  936., 1240., 1370., 1640.,\n",
       "       2130.], dtype=float32)</pre></div></li><li class='xr-var-item'><div class='xr-var-name'><span class='xr-has-index'>nbands_viirs</span></div><div class='xr-var-dims'>(nbands_viirs)</div><div class='xr-var-dtype'>float32</div><div class='xr-var-preview xr-preview'>412.0 445.0 ... 1.61e+03 2.25e+03</div><input id='attrs-bfe7ae78-cfe2-4171-9cfa-6762c6eb5b74' class='xr-var-attrs-in' type='checkbox' ><label for='attrs-bfe7ae78-cfe2-4171-9cfa-6762c6eb5b74' title='Show/Hide attributes'><svg class='icon xr-icon-file-text2'><use xlink:href='#icon-file-text2'></use></svg></label><input id='data-bef31380-566d-4d41-9ef8-4ae5c8b3700c' class='xr-var-data-in' type='checkbox'><label for='data-bef31380-566d-4d41-9ef8-4ae5c8b3700c' title='Show/Hide data repr'><svg class='icon xr-icon-database'><use xlink:href='#icon-database'></use></svg></label><div class='xr-var-attrs'><dl class='xr-attrs'><dt><span>long_name :</span></dt><dd>VIIRS band central wavelengths, nm</dd></dl></div><div class='xr-var-data'><pre>array([ 412.,  445.,  488.,  555.,  672.,  865., 1240., 1380., 1610., 2250.],\n",
       "      dtype=float32)</pre></div></li></ul></div></li><li class='xr-section-item'><input id='section-14e355f7-cc84-4f9f-8e41-05371407c3e4' class='xr-section-summary-in' type='checkbox'  checked><label for='section-14e355f7-cc84-4f9f-8e41-05371407c3e4' class='xr-section-summary' >Data variables: <span>(12)</span></label><div class='xr-section-inline-details'></div><div class='xr-section-details'><ul class='xr-var-list'><li class='xr-var-item'><div class='xr-var-name'><span>solar_zenith_angle</span></div><div class='xr-var-dims'>(npoints)</div><div class='xr-var-dtype'>float32</div><div class='xr-var-preview xr-preview'>...</div><input id='attrs-0d150e2e-a7c7-4af3-8fb9-e4677dec49bb' class='xr-var-attrs-in' type='checkbox' ><label for='attrs-0d150e2e-a7c7-4af3-8fb9-e4677dec49bb' title='Show/Hide attributes'><svg class='icon xr-icon-file-text2'><use xlink:href='#icon-file-text2'></use></svg></label><input id='data-7e867439-adfb-412a-bbb0-b45acde8d0e7' class='xr-var-data-in' type='checkbox'><label for='data-7e867439-adfb-412a-bbb0-b45acde8d0e7' title='Show/Hide data repr'><svg class='icon xr-icon-database'><use xlink:href='#icon-database'></use></svg></label><div class='xr-var-attrs'><dl class='xr-attrs'><dt><span>long_name :</span></dt><dd>Solar zenith angle, degrees</dd></dl></div><div class='xr-var-data'><pre>[250000 values with dtype=float32]</pre></div></li><li class='xr-var-item'><div class='xr-var-name'><span>viewing_zenith_angle</span></div><div class='xr-var-dims'>(npoints)</div><div class='xr-var-dtype'>float32</div><div class='xr-var-preview xr-preview'>...</div><input id='attrs-20500f55-ee7a-437e-a1bb-a507221b3718' class='xr-var-attrs-in' type='checkbox' ><label for='attrs-20500f55-ee7a-437e-a1bb-a507221b3718' title='Show/Hide attributes'><svg class='icon xr-icon-file-text2'><use xlink:href='#icon-file-text2'></use></svg></label><input id='data-664e9efb-e3cf-4c34-ab31-77c98142d004' class='xr-var-data-in' type='checkbox'><label for='data-664e9efb-e3cf-4c34-ab31-77c98142d004' title='Show/Hide data repr'><svg class='icon xr-icon-database'><use xlink:href='#icon-database'></use></svg></label><div class='xr-var-attrs'><dl class='xr-attrs'><dt><span>long_name :</span></dt><dd>Viewing (sensor) zenith angle, degrees</dd></dl></div><div class='xr-var-data'><pre>[250000 values with dtype=float32]</pre></div></li><li class='xr-var-item'><div class='xr-var-name'><span>relative_azimuth_angle</span></div><div class='xr-var-dims'>(npoints)</div><div class='xr-var-dtype'>float32</div><div class='xr-var-preview xr-preview'>...</div><input id='attrs-16894be3-79d4-4a19-8176-d7abbf962e1d' class='xr-var-attrs-in' type='checkbox' ><label for='attrs-16894be3-79d4-4a19-8176-d7abbf962e1d' title='Show/Hide attributes'><svg class='icon xr-icon-file-text2'><use xlink:href='#icon-file-text2'></use></svg></label><input id='data-38c863f3-afcb-4c9c-9523-d39d16ef5cf8' class='xr-var-data-in' type='checkbox'><label for='data-38c863f3-afcb-4c9c-9523-d39d16ef5cf8' title='Show/Hide data repr'><svg class='icon xr-icon-database'><use xlink:href='#icon-database'></use></svg></label><div class='xr-var-attrs'><dl class='xr-attrs'><dt><span>long_name :</span></dt><dd>Relative azimuth angle, degrees</dd></dl></div><div class='xr-var-data'><pre>[250000 values with dtype=float32]</pre></div></li><li class='xr-var-item'><div class='xr-var-name'><span>albedo_type</span></div><div class='xr-var-dims'>(npoints)</div><div class='xr-var-dtype'>int16</div><div class='xr-var-preview xr-preview'>...</div><input id='attrs-56814635-09db-49a5-9a64-6b5532403f53' class='xr-var-attrs-in' type='checkbox' ><label for='attrs-56814635-09db-49a5-9a64-6b5532403f53' title='Show/Hide attributes'><svg class='icon xr-icon-file-text2'><use xlink:href='#icon-file-text2'></use></svg></label><input id='data-d45ab079-ab54-4926-aade-1e92c92bd666' class='xr-var-data-in' type='checkbox'><label for='data-d45ab079-ab54-4926-aade-1e92c92bd666' title='Show/Hide data repr'><svg class='icon xr-icon-database'><use xlink:href='#icon-database'></use></svg></label><div class='xr-var-attrs'><dl class='xr-attrs'><dt><span>long_name :</span></dt><dd>Surface spectral albedo category (1-20). 1 evergreen_needle_forest; 2 evergreen_broad_forest; 3 deciduous_needle_forest; 4 deciduous_broad_forest; 5 mixed_forest; 6 closed_shrub; 7 open_shrubs; 8 woody_savanna; 9 savanna; 10 grassland; 11 wetland; 12 cropland; 13 urban; 14 crop_mosaic; 15 antarctic_snow; 16 desert; 17 ocean_water; 18 tundra; 19 fresh_snow; 20 sea_ice</dd></dl></div><div class='xr-var-data'><pre>[250000 values with dtype=int16]</pre></div></li><li class='xr-var-item'><div class='xr-var-name'><span>oci_reflectances</span></div><div class='xr-var-dims'>(nbands_oci, npoints)</div><div class='xr-var-dtype'>float32</div><div class='xr-var-preview xr-preview'>...</div><input id='attrs-e6f28da9-d99f-42a1-862a-9de6046ee2ab' class='xr-var-attrs-in' type='checkbox' ><label for='attrs-e6f28da9-d99f-42a1-862a-9de6046ee2ab' title='Show/Hide attributes'><svg class='icon xr-icon-file-text2'><use xlink:href='#icon-file-text2'></use></svg></label><input id='data-3692f019-d0ae-4925-94e9-9021f98363ff' class='xr-var-data-in' type='checkbox'><label for='data-3692f019-d0ae-4925-94e9-9021f98363ff' title='Show/Hide data repr'><svg class='icon xr-icon-database'><use xlink:href='#icon-database'></use></svg></label><div class='xr-var-attrs'><dl class='xr-attrs'><dt><span>long_name :</span></dt><dd>Spectral top of atmosphere reflectance for OCI bands</dd></dl></div><div class='xr-var-data'><pre>[55750000 values with dtype=float32]</pre></div></li><li class='xr-var-item'><div class='xr-var-name'><span>modis_reflectances</span></div><div class='xr-var-dims'>(nbands_modis, npoints)</div><div class='xr-var-dtype'>float32</div><div class='xr-var-preview xr-preview'>...</div><input id='attrs-63887e70-9bc4-444e-9978-b176d66fba87' class='xr-var-attrs-in' type='checkbox' ><label for='attrs-63887e70-9bc4-444e-9978-b176d66fba87' title='Show/Hide attributes'><svg class='icon xr-icon-file-text2'><use xlink:href='#icon-file-text2'></use></svg></label><input id='data-32f60810-f8ba-484a-a394-2dd8a7ca5bba' class='xr-var-data-in' type='checkbox'><label for='data-32f60810-f8ba-484a-a394-2dd8a7ca5bba' title='Show/Hide data repr'><svg class='icon xr-icon-database'><use xlink:href='#icon-database'></use></svg></label><div class='xr-var-attrs'><dl class='xr-attrs'><dt><span>long_name :</span></dt><dd>Spectral top of atmosphere reflectance for MODIS bands</dd></dl></div><div class='xr-var-data'><pre>[2750000 values with dtype=float32]</pre></div></li><li class='xr-var-item'><div class='xr-var-name'><span>viirs_reflectances</span></div><div class='xr-var-dims'>(nbands_viirs, npoints)</div><div class='xr-var-dtype'>float32</div><div class='xr-var-preview xr-preview'>...</div><input id='attrs-8eaa69d9-429a-400a-887c-4bc92232eb3e' class='xr-var-attrs-in' type='checkbox' ><label for='attrs-8eaa69d9-429a-400a-887c-4bc92232eb3e' title='Show/Hide attributes'><svg class='icon xr-icon-file-text2'><use xlink:href='#icon-file-text2'></use></svg></label><input id='data-5c95b9e1-bd69-4ea9-b198-d774fdf47344' class='xr-var-data-in' type='checkbox'><label for='data-5c95b9e1-bd69-4ea9-b198-d774fdf47344' title='Show/Hide data repr'><svg class='icon xr-icon-database'><use xlink:href='#icon-database'></use></svg></label><div class='xr-var-attrs'><dl class='xr-attrs'><dt><span>long_name :</span></dt><dd>Spectral top of atmosphere reflectance for VIIRS bands</dd></dl></div><div class='xr-var-data'><pre>[2500000 values with dtype=float32]</pre></div></li><li class='xr-var-item'><div class='xr-var-name'><span>scene_type</span></div><div class='xr-var-dims'>(npoints)</div><div class='xr-var-dtype'>int16</div><div class='xr-var-preview xr-preview'>...</div><input id='attrs-4b13a019-d544-48e4-b77c-ca4ed30ab154' class='xr-var-attrs-in' type='checkbox' ><label for='attrs-4b13a019-d544-48e4-b77c-ca4ed30ab154' title='Show/Hide attributes'><svg class='icon xr-icon-file-text2'><use xlink:href='#icon-file-text2'></use></svg></label><input id='data-4747fda0-bbed-4121-9de2-69bd4dd9cad6' class='xr-var-data-in' type='checkbox'><label for='data-4747fda0-bbed-4121-9de2-69bd4dd9cad6' title='Show/Hide data repr'><svg class='icon xr-icon-database'><use xlink:href='#icon-database'></use></svg></label><div class='xr-var-attrs'><dl class='xr-attrs'><dt><span>long_name :</span></dt><dd>Type of scene simulated. 1 cloud free; 2 single cloud layer</dd></dl></div><div class='xr-var-data'><pre>[250000 values with dtype=int16]</pre></div></li><li class='xr-var-item'><div class='xr-var-name'><span>log10_cloud_optical_thickness</span></div><div class='xr-var-dims'>(npoints)</div><div class='xr-var-dtype'>float32</div><div class='xr-var-preview xr-preview'>...</div><input id='attrs-163c446a-972a-47cd-8caf-c307ebac5ff4' class='xr-var-attrs-in' type='checkbox' ><label for='attrs-163c446a-972a-47cd-8caf-c307ebac5ff4' title='Show/Hide attributes'><svg class='icon xr-icon-file-text2'><use xlink:href='#icon-file-text2'></use></svg></label><input id='data-cdfbde6e-8b04-4a27-8a27-b4199216076c' class='xr-var-data-in' type='checkbox'><label for='data-cdfbde6e-8b04-4a27-8a27-b4199216076c' title='Show/Hide data repr'><svg class='icon xr-icon-database'><use xlink:href='#icon-database'></use></svg></label><div class='xr-var-attrs'><dl class='xr-attrs'><dt><span>long_name :</span></dt><dd>Base 10 logarithm of cloud optical thickness</dd></dl></div><div class='xr-var-data'><pre>[250000 values with dtype=float32]</pre></div></li><li class='xr-var-item'><div class='xr-var-name'><span>spress</span></div><div class='xr-var-dims'>(npoints)</div><div class='xr-var-dtype'>float32</div><div class='xr-var-preview xr-preview'>...</div><input id='attrs-da641e34-ce07-48b0-8a65-05e51a29ab6c' class='xr-var-attrs-in' type='checkbox' ><label for='attrs-da641e34-ce07-48b0-8a65-05e51a29ab6c' title='Show/Hide attributes'><svg class='icon xr-icon-file-text2'><use xlink:href='#icon-file-text2'></use></svg></label><input id='data-ba2d2cf0-bab5-4b7b-926d-0c33579efa18' class='xr-var-data-in' type='checkbox'><label for='data-ba2d2cf0-bab5-4b7b-926d-0c33579efa18' title='Show/Hide data repr'><svg class='icon xr-icon-database'><use xlink:href='#icon-database'></use></svg></label><div class='xr-var-attrs'><dl class='xr-attrs'><dt><span>long_name :</span></dt><dd>Surface pressure, mbar</dd></dl></div><div class='xr-var-data'><pre>[250000 values with dtype=float32]</pre></div></li><li class='xr-var-item'><div class='xr-var-name'><span>h2o</span></div><div class='xr-var-dims'>(npoints)</div><div class='xr-var-dtype'>float32</div><div class='xr-var-preview xr-preview'>...</div><input id='attrs-c19507a3-877a-4cfb-83e4-5f9ce4172c9f' class='xr-var-attrs-in' type='checkbox' ><label for='attrs-c19507a3-877a-4cfb-83e4-5f9ce4172c9f' title='Show/Hide attributes'><svg class='icon xr-icon-file-text2'><use xlink:href='#icon-file-text2'></use></svg></label><input id='data-34baca6b-8d29-4bc3-96c0-79f737719f28' class='xr-var-data-in' type='checkbox'><label for='data-34baca6b-8d29-4bc3-96c0-79f737719f28' title='Show/Hide data repr'><svg class='icon xr-icon-database'><use xlink:href='#icon-database'></use></svg></label><div class='xr-var-attrs'><dl class='xr-attrs'><dt><span>long_name :</span></dt><dd>Total column water vapour, mm</dd></dl></div><div class='xr-var-data'><pre>[250000 values with dtype=float32]</pre></div></li><li class='xr-var-item'><div class='xr-var-name'><span>o3</span></div><div class='xr-var-dims'>(npoints)</div><div class='xr-var-dtype'>float32</div><div class='xr-var-preview xr-preview'>...</div><input id='attrs-419c5b73-7347-4d84-b08c-f064a345db11' class='xr-var-attrs-in' type='checkbox' ><label for='attrs-419c5b73-7347-4d84-b08c-f064a345db11' title='Show/Hide attributes'><svg class='icon xr-icon-file-text2'><use xlink:href='#icon-file-text2'></use></svg></label><input id='data-c6da004d-a8ca-441a-929c-f55f30b920f3' class='xr-var-data-in' type='checkbox'><label for='data-c6da004d-a8ca-441a-929c-f55f30b920f3' title='Show/Hide data repr'><svg class='icon xr-icon-database'><use xlink:href='#icon-database'></use></svg></label><div class='xr-var-attrs'><dl class='xr-attrs'><dt><span>long_name :</span></dt><dd>Total column ozone, DU</dd></dl></div><div class='xr-var-data'><pre>[250000 values with dtype=float32]</pre></div></li></ul></div></li><li class='xr-section-item'><input id='section-f244f270-cd32-484d-8cf6-ad7bd4c12254' class='xr-section-summary-in' type='checkbox'  checked><label for='section-f244f270-cd32-484d-8cf6-ad7bd4c12254' class='xr-section-summary' >Attributes: <span>(9)</span></label><div class='xr-section-inline-details'></div><div class='xr-section-details'><dl class='xr-attrs'><dt><span>description :</span></dt><dd>Radiative transfer-based labelled training data for neural network cloud mask / optical thickness</dd><dt><span>suffix :</span></dt><dd>nc</dd><dt><span>version :</span></dt><dd>Created 20230310</dd><dt><span>contact_person_address :</span></dt><dd>NASA/GSFC, Mail Code 616, 8800 Greenbelt Road, Greenbelt, MD 20771</dd><dt><span>contact_person_email :</span></dt><dd> andrew.sayer@nasa.gov</dd><dt><span>contact_person_name :</span></dt><dd> Andrew Sayer</dd><dt><span>contact_person_role :</span></dt><dd>Scientific/technical contact</dd><dt><span>data_set_language :</span></dt><dd>en</dd><dt><span>file_format :</span></dt><dd>NetCDF4</dd></dl></div></li></ul></div></div>"
      ],
      "text/plain": [
       "<xarray.Dataset>\n",
       "Dimensions:                        (npoints: 250000, nbands_oci: 223, nbands_modis: 11, nbands_viirs: 10)\n",
       "Coordinates:\n",
       "  * nbands_oci                     (nbands_oci) float32 350.0 ... 2.261e+03\n",
       "  * nbands_modis                   (nbands_modis) float32 412.0 ... 2.13e+03\n",
       "  * nbands_viirs                   (nbands_viirs) float32 412.0 ... 2.25e+03\n",
       "Dimensions without coordinates: npoints\n",
       "Data variables:\n",
       "    solar_zenith_angle             (npoints) float32 ...\n",
       "    viewing_zenith_angle           (npoints) float32 ...\n",
       "    relative_azimuth_angle         (npoints) float32 ...\n",
       "    albedo_type                    (npoints) int16 ...\n",
       "    oci_reflectances               (nbands_oci, npoints) float32 ...\n",
       "    modis_reflectances             (nbands_modis, npoints) float32 ...\n",
       "    viirs_reflectances             (nbands_viirs, npoints) float32 ...\n",
       "    scene_type                     (npoints) int16 ...\n",
       "    log10_cloud_optical_thickness  (npoints) float32 ...\n",
       "    spress                         (npoints) float32 ...\n",
       "    h2o                            (npoints) float32 ...\n",
       "    o3                             (npoints) float32 ...\n",
       "Attributes:\n",
       "    description:             Radiative transfer-based labelled training data ...\n",
       "    suffix:                  nc\n",
       "    version:                 Created 20230310\n",
       "    contact_person_address:  NASA/GSFC, Mail Code 616, 8800 Greenbelt Road, G...\n",
       "    contact_person_email:     andrew.sayer@nasa.gov\n",
       "    contact_person_name:      Andrew Sayer\n",
       "    contact_person_role:     Scientific/technical contact\n",
       "    data_set_language:       en\n",
       "    file_format:             NetCDF4"
      ]
     },
     "execution_count": 3,
     "metadata": {},
     "output_type": "execute_result"
    }
   ],
   "source": [
    "file_path ='rt_nn_cloud_training_data_20230310.nc'\n",
    "ds = xr.open_dataset(file_path)\n",
    "ds"
   ]
  },
  {
   "cell_type": "code",
   "execution_count": 4,
   "metadata": {},
   "outputs": [],
   "source": [
    "# Define variables\n",
    "oci_reflectances = ds[\"oci_reflectances\"].values \n",
    "modis_reflectances = ds[\"modis_reflectances\"].values \n",
    "viirs_reflectances = ds[\"viirs_reflectances\"].values \n",
    "nbands_oci = ds[\"nbands_oci\"].values\n",
    "nbands_modis = ds[\"nbands_modis\"].values\n",
    "nbands_viirs = ds[\"nbands_viirs\"].values\n",
    "angles = ds[[\"solar_zenith_angle\", \"viewing_zenith_angle\", \"relative_azimuth_angle\"]].to_array().values\n",
    "h2o = ds[\"h2o\"].values\n",
    "o3 = ds[\"o3\"].values\n",
    "scene_type = ds[\"scene_type\"].values\n",
    "albedo_type = ds[\"albedo_type\"].values\n",
    "spress = ds[\"spress\"].values\n",
    "cot = ds[\"log10_cloud_optical_thickness\"].values"
   ]
  },
  {
   "attachments": {},
   "cell_type": "markdown",
   "metadata": {},
   "source": [
    "### Data preprocess"
   ]
  },
  {
   "cell_type": "code",
   "execution_count": 5,
   "metadata": {},
   "outputs": [],
   "source": [
    "# Define a minmax scaler\n",
    "def minmaxscaler(reflectances):\n",
    "        if len(reflectances.shape) == 1:\n",
    "                reflectances_sc = (reflectances-reflectances.min())/(reflectances.max() - reflectances.min())\n",
    "        else:\n",
    "                reflectances_sc = []\n",
    "                for i in range(len(reflectances)):\n",
    "                        reflectances_sc_tem = (reflectances[i]-reflectances[i].min())/(reflectances[i].max()-reflectances[i].min())\n",
    "                        reflectances_sc.append(reflectances_sc_tem)\n",
    "        return np.array(reflectances_sc)\n",
    "                "
   ]
  },
  {
   "cell_type": "code",
   "execution_count": 6,
   "metadata": {},
   "outputs": [],
   "source": [
    "# Define labels for albedo type\n",
    "land = [1,2,3,4,5,6,7,8,9,10,11,12,13,14,18]\n",
    "snow = [15,19,20]\n",
    "desert = [16, 16]\n",
    "ocean_water = [17, 17]\n",
    "albedo = [land, snow, desert, ocean_water]\n",
    "\n",
    "def albedo_category(albedo_type):\n",
    "    albedo_type_sc = []\n",
    "    for k in range(len(albedo)):\n",
    "        i = 0\n",
    "        albedo_1hot = []\n",
    "        for i in range(len(albedo_type)):\n",
    "            if albedo_type[i] in albedo[k]:\n",
    "                albedo_1hot.append(1)\n",
    "            else:\n",
    "                albedo_1hot.append(0)\n",
    "        albedo_type_sc.append(albedo_1hot)\n",
    "    return np.array(albedo_type_sc)"
   ]
  },
  {
   "cell_type": "code",
   "execution_count": 7,
   "metadata": {},
   "outputs": [],
   "source": [
    "\"\"\"\n",
    "Reflectances, h2o, o3, spress: minmax normalize to [0,1]\n",
    "Angles: take cosine and normalize to [0,1]\n",
    "scen_type: no preprocessing\n",
    "albedo_type: break down into 4 categories\n",
    "cot: set 0 as -2\n",
    "\"\"\"\n",
    "oci_reflectances_sc = minmaxscaler(oci_reflectances)\n",
    "h2o_sc = minmaxscaler(h2o)\n",
    "o3_sc = minmaxscaler(o3)\n",
    "spress_sc = minmaxscaler(spress)\n",
    "angles_sc = minmaxscaler(np.cos(angles))\n",
    "albedo_type_sc = np.float32(albedo_category(albedo_type))"
   ]
  },
  {
   "cell_type": "code",
   "execution_count": 8,
   "metadata": {},
   "outputs": [],
   "source": [
    "cot_sc = np.nan_to_num(cot, nan=5) \n",
    "max_value = cot_sc.max()\n",
    "min_value = cot_sc.min()\n",
    "cot_sc = minmaxscaler(cot_sc)\n"
   ]
  },
  {
   "cell_type": "code",
   "execution_count": 15,
   "metadata": {},
   "outputs": [
    {
     "name": "stdout",
     "output_type": "stream",
     "text": [
      "5.0 -1.5\n"
     ]
    }
   ],
   "source": [
    "print(max_value, min_value)\n",
    "if ()"
   ]
  },
  {
   "attachments": {},
   "cell_type": "markdown",
   "metadata": {},
   "source": [
    "## Concatenate variables and split training-testing dataset"
   ]
  },
  {
   "cell_type": "code",
   "execution_count": 9,
   "metadata": {},
   "outputs": [],
   "source": [
    "X = np.concatenate((oci_reflectances_sc, h2o_sc[None, :], o3_sc[None, :], spress_sc[None, :], albedo_type_sc, angles_sc), axis=0) # n x m, where n = 22\n",
    "# X = np.transpose(X) # transpose into a m x n matrix , n = 22 (aka features) and m = rows (aka observations)\n",
    "X = np.float32(X)\n",
    "# Y represents the response vector (binary),,,, m by 1, m = rows (aka observations)\n",
    "Y = cot_sc\n",
    "# Y = np.reshape(Y, (-1, 1)) # reshape to m x 1 array"
   ]
  },
  {
   "cell_type": "code",
   "execution_count": 10,
   "metadata": {},
   "outputs": [
    {
     "name": "stdout",
     "output_type": "stream",
     "text": [
      "(233, 250000) (250000,)\n"
     ]
    }
   ],
   "source": [
    "print(X.shape, Y.shape)"
   ]
  },
  {
   "cell_type": "code",
   "execution_count": 11,
   "metadata": {},
   "outputs": [],
   "source": [
    "X = np.transpose(X)"
   ]
  },
  {
   "cell_type": "code",
   "execution_count": 12,
   "metadata": {},
   "outputs": [],
   "source": [
    "Y = np.reshape(Y, (-1, 1))"
   ]
  },
  {
   "cell_type": "code",
   "execution_count": 13,
   "metadata": {},
   "outputs": [],
   "source": [
    "X_train, X_test, y_train, y_test = train_test_split(X, Y, test_size=0.1, random_state=42)\n",
    "X_train, X_val, y_train, y_val = train_test_split(X_train, y_train, test_size=0.25, random_state=1) "
   ]
  },
  {
   "attachments": {},
   "cell_type": "markdown",
   "metadata": {},
   "source": [
    "# Prepare Data for Training"
   ]
  },
  {
   "cell_type": "code",
   "execution_count": 14,
   "metadata": {},
   "outputs": [],
   "source": [
    "X_train_t = torch.from_numpy(X_train.astype(np.float32))\n",
    "y_train_t = torch.from_numpy(y_train.astype(np.float32))\n",
    "X_val_t = torch.from_numpy(X_val.astype(np.float32))\n",
    "y_val_t = torch.from_numpy(y_val.astype(np.float32))"
   ]
  },
  {
   "cell_type": "code",
   "execution_count": 16,
   "metadata": {},
   "outputs": [],
   "source": [
    "dataset_train = Data.TensorDataset(X_train_t, y_train_t)\n",
    "dataset_val = Data.TensorDataset(X_val_t, y_val_t)\n",
    "train_loader = DataLoader(dataset = dataset_train, batch_size = 64, shuffle=True, pin_memory=True)\n",
    "validate_loader = DataLoader(dataset = dataset_val, batch_size = 64, shuffle=True, pin_memory=True)"
   ]
  },
  {
   "attachments": {},
   "cell_type": "markdown",
   "metadata": {},
   "source": [
    "# Network"
   ]
  },
  {
   "cell_type": "code",
   "execution_count": 17,
   "metadata": {},
   "outputs": [],
   "source": [
    "class MLP(nn.Module):\n",
    "  '''\n",
    "    Multilayer Perceptron for regression.\n",
    "  '''\n",
    "  def __init__(self, input_size):\n",
    "    super().__init__()\n",
    "    self.layers = nn.Sequential(\n",
    "      nn.Linear(input_size, 128),\n",
    "      # nn.BatchNorm1d(64),\n",
    "      nn.ReLU(),\n",
    "      nn.Linear(128, 64),\n",
    "      # nn.BatchNorm1d(64),\n",
    "      nn.ReLU(),\n",
    "      nn.Linear(64, 32),\n",
    "      # nn.BatchNorm1d(32),\n",
    "      nn.ReLU(),\n",
    "      nn.Linear(32, 1)\n",
    "    )\n",
    "\n",
    "\n",
    "  def forward(self, x):\n",
    "    '''\n",
    "      Forward pass\n",
    "    '''\n",
    "    return self.layers(x)"
   ]
  },
  {
   "attachments": {},
   "cell_type": "markdown",
   "metadata": {},
   "source": [
    "# Optimization"
   ]
  },
  {
   "cell_type": "code",
   "execution_count": 18,
   "metadata": {},
   "outputs": [],
   "source": [
    "# Initialize the MLP\n",
    "mlp = MLP(input_size=X_train_t.shape[1])\n",
    "  \n",
    "# Define the loss function and optimizer\n",
    "loss_function = nn.L1Loss() # Pay attention to the threshold between cloud and non-cloud pxiels # add penalty to -1.5\n",
    "optimizer = torch.optim.Adam(mlp.parameters(), lr=0.00001)"
   ]
  },
  {
   "cell_type": "code",
   "execution_count": null,
   "metadata": {},
   "outputs": [],
   "source": [
    "# Run the training loop\n",
    "train_loss_all = []\n",
    "valid_loss_all = []\n",
    "for epoch in range(250): \n",
    "  \n",
    "  # Print epoch\n",
    "  print(f'Starting epoch {epoch+1}')\n",
    "  \n",
    "  # Set current loss value\n",
    "  train_loss = 0.0\n",
    "  valid_loss = 0.0\n",
    "  train_num = 0\n",
    "  valid_num = 0\n",
    "  \n",
    "  # Iterate over the DataLoader for training data\n",
    "  for step, (b_x,b_y) in enumerate(train_loader):\n",
    "    output = mlp(b_x)*(max_value-min_value)+min_value\n",
    "    ground_truth = b_y*(max_value-min_value)+min_value\n",
    "    loss = loss_function(output, ground_truth)\n",
    "    optimizer.zero_grad\n",
    "    loss.backward()\n",
    "    optimizer.step()\n",
    "    train_loss +=loss.item() * b_x.size(0)\n",
    "    train_num += b_x.size(0)\n",
    "  train_loss_all.append(train_loss / train_num)\n",
    "\n",
    "  for setp, (c_x, c_y) in enumerate(validate_loader):\n",
    "    output_valid = mlp(c_x)*(max_value-min_value)+min_value\n",
    "    loss_v = loss_function(output_valid,(c_y*(max_value-min_value)+min_value))\n",
    "    valid_loss +=loss_v.item() * c_x.size(0)\n",
    "    valid_num += c_x.size(0)\n",
    "\n",
    "  valid_loss_all.append(valid_loss / valid_num) # revise for other experiments\n",
    "  print(\"Train Loss: {}, Valid Loss: {}\".format ((train_loss / train_num), (valid_loss / valid_num)))  \n",
    "\n",
    "# Process is complete.\n",
    "print('Training process has finished.')"
   ]
  },
  {
   "cell_type": "code",
   "execution_count": 21,
   "metadata": {},
   "outputs": [],
   "source": [
    "PATH = './models/{}_oci.pth'.format(expname)\n",
    "torch.save(mlp.state_dict(), PATH)"
   ]
  },
  {
   "attachments": {},
   "cell_type": "markdown",
   "metadata": {},
   "source": [
    "# Training Loss Plot"
   ]
  },
  {
   "cell_type": "code",
   "execution_count": 22,
   "metadata": {},
   "outputs": [
    {
     "data": {
      "image/png": "[encoded data removed]",
      "text/plain": [
       "<Figure size 800x600 with 1 Axes>"
      ]
     },
     "metadata": {},
     "output_type": "display_data"
    }
   ],
   "source": [
    "plt.figure(figsize = (8,6))\n",
    "plt.plot(train_loss_all, 'r-', label = 'Train loss')\n",
    "plt.plot(valid_loss_all, 'b-', label = 'Validation loss')\n",
    "plt.legend()\n",
    "plt.grid()\n",
    "plt.xlabel('epoch')\n",
    "plt.ylabel('Loss')\n",
    "plt.savefig('/Users/xingyanli/Lab/gestar2_regression/results/{}_loss.png'.format(expname))\n",
    "plt.show()"
   ]
  },
  {
   "attachments": {},
   "cell_type": "markdown",
   "metadata": {},
   "source": [
    "# Test"
   ]
  },
  {
   "cell_type": "code",
   "execution_count": 23,
   "metadata": {},
   "outputs": [],
   "source": [
    "# Test data loader\n",
    "X_test_t = torch.from_numpy(X_test.astype(np.float32))\n",
    "y_test_t = torch.from_numpy(y_test.astype(np.float32))\n",
    "dataset_test = Data.TensorDataset(X_test_t, y_test_t)\n",
    "test_loader = DataLoader(dataset = dataset_test, batch_size = len(y_test_t), shuffle=True, pin_memory=True)\n",
    "\n",
    "# Load model\n",
    "test_loss = 0.0\n",
    "test_num = 0\n",
    "for step, (d_x,d_y) in enumerate(test_loader):\n",
    "    output_test = mlp(d_x)*(max_value-min_value)+min_value\n",
    "    target = d_y*(max_value-min_value)+min_value\n",
    "    output_test = output_test.detach().cpu().numpy()\n",
    "    target = target.detach().cpu().numpy()\n"
   ]
  },
  {
   "cell_type": "code",
   "execution_count": 24,
   "metadata": {},
   "outputs": [
    {
     "name": "stdout",
     "output_type": "stream",
     "text": [
      "MSE: 0.18377800285816193, RMSE: 0.42869336693977655\n"
     ]
    }
   ],
   "source": [
    "MSE = np.square(np.subtract(target,output_test)).mean() \n",
    "RMSE = math.sqrt(MSE)\n",
    "print(\"MSE: {}, RMSE: {}\".format(MSE, RMSE))"
   ]
  },
  {
   "cell_type": "code",
   "execution_count": 25,
   "metadata": {},
   "outputs": [
    {
     "data": {
      "image/png": "[encoded data removed]",
      "text/plain": [
       "<Figure size 600x600 with 1 Axes>"
      ]
     },
     "metadata": {},
     "output_type": "display_data"
    }
   ],
   "source": [
    "plt.figure(figsize = (6,6))\n",
    "plt.scatter(target, output_test, s=0.5)\n",
    "plt.plot([-2,2.5], [-2,2.5], 'r-')\n",
    "plt.grid()\n",
    "plt.xlabel('True value')\n",
    "plt.ylabel('Prediction')\n",
    "plt.savefig(\"/Users/xingyanli/Lab/gestar2_regression/results/{}_scatter.png\".format(expname))\n",
    "plt.show()\n"
   ]
  },
  {
   "cell_type": "code",
   "execution_count": null,
   "metadata": {},
   "outputs": [
    {
     "data": {
      "text/plain": [
       "array([[-2.        , -2.0001543 ],\n",
       "       [ 0.00365686,  0.13931799],\n",
       "       [ 0.655797  ,  0.89066267],\n",
       "       ...,\n",
       "       [-0.08772182, -0.07664835],\n",
       "       [-0.26186395, -0.14435816],\n",
       "       [-2.        , -2.0001543 ]], dtype=float32)"
      ]
     },
     "execution_count": 28,
     "metadata": {},
     "output_type": "execute_result"
    }
   ],
   "source": [
    "test_truth = np.hstack((target, output_test))\n",
    "test_truth"
   ]
  },
  {
   "cell_type": "code",
   "execution_count": null,
   "metadata": {},
   "outputs": [],
   "source": [
    "np.savetxt('results/{}.csv'.format(expname), test_truth,  delimiter=',')\n"
   ]
  }
 ],
 "metadata": {
  "kernelspec": {
   "display_name": "gestar2",
   "language": "python",
   "name": "python3"
  },
  "language_info": {
   "codemirror_mode": {
    "name": "ipython",
    "version": 3
   },
   "file_extension": ".py",
   "mimetype": "text/x-python",
   "name": "python",
   "nbconvert_exporter": "python",
   "pygments_lexer": "ipython3",
   "version": "3.8.15"
  },
  "orig_nbformat": 4,
  "vscode": {
   "interpreter": {
    "hash": "1e0a89b39db2c9718d5c925e819b1fb241ef2aa9ae69ce90b0ee737d9a6a37ce"
   }
  }
 },
 "nbformat": 4,
 "nbformat_minor": 2
}
