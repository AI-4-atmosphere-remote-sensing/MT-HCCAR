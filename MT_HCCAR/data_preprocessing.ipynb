{
 "cells": [
  {
   "attachments": {},
   "cell_type": "markdown",
   "metadata": {},
   "source": [
    "# Cloud Optical Thickness Prediction from Imaging Satellite Instruments"
   ]
  },
  {
   "cell_type": "code",
   "execution_count": 1,
   "metadata": {},
   "outputs": [],
   "source": [
    "import os\n",
    "import math\n",
    "import torch\n",
    "from torch import nn\n",
    "import torch.utils.data as Data\n",
    "from torch.utils.data import Dataset, DataLoader\n",
    "import torch.nn.functional as F\n",
    "\n",
    "import xarray as xr\n",
    "import numpy as np\n",
    "from sklearn.model_selection import train_test_split\n",
    "from sklearn.preprocessing import OneHotEncoder\n",
    "from scipy.special import logit\n",
    "from multiprocessing import Process\n",
    "from time import perf_counter\n",
    "\n",
    "import matplotlib.pyplot as plt"
   ]
  },
  {
   "cell_type": "code",
   "execution_count": 2,
   "metadata": {},
   "outputs": [
    {
     "data": {
      "text/html": [
       "<div><svg style=\"position: absolute; width: 0; height: 0; overflow: hidden\">\n",
       "<defs>\n",
       "<symbol id=\"icon-database\" viewBox=\"0 0 32 32\">\n",
       "<path d=\"M16 0c-8.837 0-16 2.239-16 5v4c0 2.761 7.163 5 16 5s16-2.239 16-5v-4c0-2.761-7.163-5-16-5z\"></path>\n",
       "<path d=\"M16 17c-8.837 0-16-2.239-16-5v6c0 2.761 7.163 5 16 5s16-2.239 16-5v-6c0 2.761-7.163 5-16 5z\"></path>\n",
       "<path d=\"M16 26c-8.837 0-16-2.239-16-5v6c0 2.761 7.163 5 16 5s16-2.239 16-5v-6c0 2.761-7.163 5-16 5z\"></path>\n",
       "</symbol>\n",
       "<symbol id=\"icon-file-text2\" viewBox=\"0 0 32 32\">\n",
       "<path d=\"M28.681 7.159c-0.694-0.947-1.662-2.053-2.724-3.116s-2.169-2.030-3.116-2.724c-1.612-1.182-2.393-1.319-2.841-1.319h-15.5c-1.378 0-2.5 1.121-2.5 2.5v27c0 1.378 1.122 2.5 2.5 2.5h23c1.378 0 2.5-1.122 2.5-2.5v-19.5c0-0.448-0.137-1.23-1.319-2.841zM24.543 5.457c0.959 0.959 1.712 1.825 2.268 2.543h-4.811v-4.811c0.718 0.556 1.584 1.309 2.543 2.268zM28 29.5c0 0.271-0.229 0.5-0.5 0.5h-23c-0.271 0-0.5-0.229-0.5-0.5v-27c0-0.271 0.229-0.5 0.5-0.5 0 0 15.499-0 15.5 0v7c0 0.552 0.448 1 1 1h7v19.5z\"></path>\n",
       "<path d=\"M23 26h-14c-0.552 0-1-0.448-1-1s0.448-1 1-1h14c0.552 0 1 0.448 1 1s-0.448 1-1 1z\"></path>\n",
       "<path d=\"M23 22h-14c-0.552 0-1-0.448-1-1s0.448-1 1-1h14c0.552 0 1 0.448 1 1s-0.448 1-1 1z\"></path>\n",
       "<path d=\"M23 18h-14c-0.552 0-1-0.448-1-1s0.448-1 1-1h14c0.552 0 1 0.448 1 1s-0.448 1-1 1z\"></path>\n",
       "</symbol>\n",
       "</defs>\n",
       "</svg>\n",
       "<style>/* CSS stylesheet for displaying xarray objects in jupyterlab.\n",
       " *\n",
       " */\n",
       "\n",
       ":root {\n",
       "  --xr-font-color0: var(--jp-content-font-color0, rgba(0, 0, 0, 1));\n",
       "  --xr-font-color2: var(--jp-content-font-color2, rgba(0, 0, 0, 0.54));\n",
       "  --xr-font-color3: var(--jp-content-font-color3, rgba(0, 0, 0, 0.38));\n",
       "  --xr-border-color: var(--jp-border-color2, #e0e0e0);\n",
       "  --xr-disabled-color: var(--jp-layout-color3, #bdbdbd);\n",
       "  --xr-background-color: var(--jp-layout-color0, white);\n",
       "  --xr-background-color-row-even: var(--jp-layout-color1, white);\n",
       "  --xr-background-color-row-odd: var(--jp-layout-color2, #eeeeee);\n",
       "}\n",
       "\n",
       "html[theme=dark],\n",
       "body.vscode-dark {\n",
       "  --xr-font-color0: rgba(255, 255, 255, 1);\n",
       "  --xr-font-color2: rgba(255, 255, 255, 0.54);\n",
       "  --xr-font-color3: rgba(255, 255, 255, 0.38);\n",
       "  --xr-border-color: #1F1F1F;\n",
       "  --xr-disabled-color: #515151;\n",
       "  --xr-background-color: #111111;\n",
       "  --xr-background-color-row-even: #111111;\n",
       "  --xr-background-color-row-odd: #313131;\n",
       "}\n",
       "\n",
       ".xr-wrap {\n",
       "  display: block;\n",
       "  min-width: 300px;\n",
       "  max-width: 700px;\n",
       "}\n",
       "\n",
       ".xr-text-repr-fallback {\n",
       "  /* fallback to plain text repr when CSS is not injected (untrusted notebook) */\n",
       "  display: none;\n",
       "}\n",
       "\n",
       ".xr-header {\n",
       "  padding-top: 6px;\n",
       "  padding-bottom: 6px;\n",
       "  margin-bottom: 4px;\n",
       "  border-bottom: solid 1px var(--xr-border-color);\n",
       "}\n",
       "\n",
       ".xr-header > div,\n",
       ".xr-header > ul {\n",
       "  display: inline;\n",
       "  margin-top: 0;\n",
       "  margin-bottom: 0;\n",
       "}\n",
       "\n",
       ".xr-obj-type,\n",
       ".xr-array-name {\n",
       "  margin-left: 2px;\n",
       "  margin-right: 10px;\n",
       "}\n",
       "\n",
       ".xr-obj-type {\n",
       "  color: var(--xr-font-color2);\n",
       "}\n",
       "\n",
       ".xr-sections {\n",
       "  padding-left: 0 !important;\n",
       "  display: grid;\n",
       "  grid-template-columns: 150px auto auto 1fr 20px 20px;\n",
       "}\n",
       "\n",
       ".xr-section-item {\n",
       "  display: contents;\n",
       "}\n",
       "\n",
       ".xr-section-item input {\n",
       "  display: none;\n",
       "}\n",
       "\n",
       ".xr-section-item input + label {\n",
       "  color: var(--xr-disabled-color);\n",
       "}\n",
       "\n",
       ".xr-section-item input:enabled + label {\n",
       "  cursor: pointer;\n",
       "  color: var(--xr-font-color2);\n",
       "}\n",
       "\n",
       ".xr-section-item input:enabled + label:hover {\n",
       "  color: var(--xr-font-color0);\n",
       "}\n",
       "\n",
       ".xr-section-summary {\n",
       "  grid-column: 1;\n",
       "  color: var(--xr-font-color2);\n",
       "  font-weight: 500;\n",
       "}\n",
       "\n",
       ".xr-section-summary > span {\n",
       "  display: inline-block;\n",
       "  padding-left: 0.5em;\n",
       "}\n",
       "\n",
       ".xr-section-summary-in:disabled + label {\n",
       "  color: var(--xr-font-color2);\n",
       "}\n",
       "\n",
       ".xr-section-summary-in + label:before {\n",
       "  display: inline-block;\n",
       "  content: '►';\n",
       "  font-size: 11px;\n",
       "  width: 15px;\n",
       "  text-align: center;\n",
       "}\n",
       "\n",
       ".xr-section-summary-in:disabled + label:before {\n",
       "  color: var(--xr-disabled-color);\n",
       "}\n",
       "\n",
       ".xr-section-summary-in:checked + label:before {\n",
       "  content: '▼';\n",
       "}\n",
       "\n",
       ".xr-section-summary-in:checked + label > span {\n",
       "  display: none;\n",
       "}\n",
       "\n",
       ".xr-section-summary,\n",
       ".xr-section-inline-details {\n",
       "  padding-top: 4px;\n",
       "  padding-bottom: 4px;\n",
       "}\n",
       "\n",
       ".xr-section-inline-details {\n",
       "  grid-column: 2 / -1;\n",
       "}\n",
       "\n",
       ".xr-section-details {\n",
       "  display: none;\n",
       "  grid-column: 1 / -1;\n",
       "  margin-bottom: 5px;\n",
       "}\n",
       "\n",
       ".xr-section-summary-in:checked ~ .xr-section-details {\n",
       "  display: contents;\n",
       "}\n",
       "\n",
       ".xr-array-wrap {\n",
       "  grid-column: 1 / -1;\n",
       "  display: grid;\n",
       "  grid-template-columns: 20px auto;\n",
       "}\n",
       "\n",
       ".xr-array-wrap > label {\n",
       "  grid-column: 1;\n",
       "  vertical-align: top;\n",
       "}\n",
       "\n",
       ".xr-preview {\n",
       "  color: var(--xr-font-color3);\n",
       "}\n",
       "\n",
       ".xr-array-preview,\n",
       ".xr-array-data {\n",
       "  padding: 0 5px !important;\n",
       "  grid-column: 2;\n",
       "}\n",
       "\n",
       ".xr-array-data,\n",
       ".xr-array-in:checked ~ .xr-array-preview {\n",
       "  display: none;\n",
       "}\n",
       "\n",
       ".xr-array-in:checked ~ .xr-array-data,\n",
       ".xr-array-preview {\n",
       "  display: inline-block;\n",
       "}\n",
       "\n",
       ".xr-dim-list {\n",
       "  display: inline-block !important;\n",
       "  list-style: none;\n",
       "  padding: 0 !important;\n",
       "  margin: 0;\n",
       "}\n",
       "\n",
       ".xr-dim-list li {\n",
       "  display: inline-block;\n",
       "  padding: 0;\n",
       "  margin: 0;\n",
       "}\n",
       "\n",
       ".xr-dim-list:before {\n",
       "  content: '(';\n",
       "}\n",
       "\n",
       ".xr-dim-list:after {\n",
       "  content: ')';\n",
       "}\n",
       "\n",
       ".xr-dim-list li:not(:last-child):after {\n",
       "  content: ',';\n",
       "  padding-right: 5px;\n",
       "}\n",
       "\n",
       ".xr-has-index {\n",
       "  font-weight: bold;\n",
       "}\n",
       "\n",
       ".xr-var-list,\n",
       ".xr-var-item {\n",
       "  display: contents;\n",
       "}\n",
       "\n",
       ".xr-var-item > div,\n",
       ".xr-var-item label,\n",
       ".xr-var-item > .xr-var-name span {\n",
       "  background-color: var(--xr-background-color-row-even);\n",
       "  margin-bottom: 0;\n",
       "}\n",
       "\n",
       ".xr-var-item > .xr-var-name:hover span {\n",
       "  padding-right: 5px;\n",
       "}\n",
       "\n",
       ".xr-var-list > li:nth-child(odd) > div,\n",
       ".xr-var-list > li:nth-child(odd) > label,\n",
       ".xr-var-list > li:nth-child(odd) > .xr-var-name span {\n",
       "  background-color: var(--xr-background-color-row-odd);\n",
       "}\n",
       "\n",
       ".xr-var-name {\n",
       "  grid-column: 1;\n",
       "}\n",
       "\n",
       ".xr-var-dims {\n",
       "  grid-column: 2;\n",
       "}\n",
       "\n",
       ".xr-var-dtype {\n",
       "  grid-column: 3;\n",
       "  text-align: right;\n",
       "  color: var(--xr-font-color2);\n",
       "}\n",
       "\n",
       ".xr-var-preview {\n",
       "  grid-column: 4;\n",
       "}\n",
       "\n",
       ".xr-var-name,\n",
       ".xr-var-dims,\n",
       ".xr-var-dtype,\n",
       ".xr-preview,\n",
       ".xr-attrs dt {\n",
       "  white-space: nowrap;\n",
       "  overflow: hidden;\n",
       "  text-overflow: ellipsis;\n",
       "  padding-right: 10px;\n",
       "}\n",
       "\n",
       ".xr-var-name:hover,\n",
       ".xr-var-dims:hover,\n",
       ".xr-var-dtype:hover,\n",
       ".xr-attrs dt:hover {\n",
       "  overflow: visible;\n",
       "  width: auto;\n",
       "  z-index: 1;\n",
       "}\n",
       "\n",
       ".xr-var-attrs,\n",
       ".xr-var-data {\n",
       "  display: none;\n",
       "  background-color: var(--xr-background-color) !important;\n",
       "  padding-bottom: 5px !important;\n",
       "}\n",
       "\n",
       ".xr-var-attrs-in:checked ~ .xr-var-attrs,\n",
       ".xr-var-data-in:checked ~ .xr-var-data {\n",
       "  display: block;\n",
       "}\n",
       "\n",
       ".xr-var-data > table {\n",
       "  float: right;\n",
       "}\n",
       "\n",
       ".xr-var-name span,\n",
       ".xr-var-data,\n",
       ".xr-attrs {\n",
       "  padding-left: 25px !important;\n",
       "}\n",
       "\n",
       ".xr-attrs,\n",
       ".xr-var-attrs,\n",
       ".xr-var-data {\n",
       "  grid-column: 1 / -1;\n",
       "}\n",
       "\n",
       "dl.xr-attrs {\n",
       "  padding: 0;\n",
       "  margin: 0;\n",
       "  display: grid;\n",
       "  grid-template-columns: 125px auto;\n",
       "}\n",
       "\n",
       ".xr-attrs dt,\n",
       ".xr-attrs dd {\n",
       "  padding: 0;\n",
       "  margin: 0;\n",
       "  float: left;\n",
       "  padding-right: 10px;\n",
       "  width: auto;\n",
       "}\n",
       "\n",
       ".xr-attrs dt {\n",
       "  font-weight: normal;\n",
       "  grid-column: 1;\n",
       "}\n",
       "\n",
       ".xr-attrs dt:hover span {\n",
       "  display: inline-block;\n",
       "  background: var(--xr-background-color);\n",
       "  padding-right: 10px;\n",
       "}\n",
       "\n",
       ".xr-attrs dd {\n",
       "  grid-column: 2;\n",
       "  white-space: pre-wrap;\n",
       "  word-break: break-all;\n",
       "}\n",
       "\n",
       ".xr-icon-database,\n",
       ".xr-icon-file-text2 {\n",
       "  display: inline-block;\n",
       "  vertical-align: middle;\n",
       "  width: 1em;\n",
       "  height: 1.5em !important;\n",
       "  stroke-width: 0;\n",
       "  stroke: currentColor;\n",
       "  fill: currentColor;\n",
       "}\n",
       "</style><pre class='xr-text-repr-fallback'>&lt;xarray.Dataset&gt;\n",
       "Dimensions:                        (npoints: 250000, nbands_oci: 223, nbands_modis: 11, nbands_viirs: 10)\n",
       "Coordinates:\n",
       "  * nbands_oci                     (nbands_oci) float32 350.0 ... 2.261e+03\n",
       "  * nbands_modis                   (nbands_modis) float32 412.0 ... 2.13e+03\n",
       "  * nbands_viirs                   (nbands_viirs) float32 412.0 ... 2.25e+03\n",
       "Dimensions without coordinates: npoints\n",
       "Data variables: (12/13)\n",
       "    solar_zenith_angle             (npoints) float32 ...\n",
       "    viewing_zenith_angle           (npoints) float32 ...\n",
       "    relative_azimuth_angle         (npoints) float32 ...\n",
       "    albedo_type                    (npoints) int16 ...\n",
       "    oci_reflectances               (nbands_oci, npoints) float32 ...\n",
       "    modis_reflectances             (nbands_modis, npoints) float32 ...\n",
       "    ...                             ...\n",
       "    scene_type                     (npoints) int16 ...\n",
       "    cloud_type                     (npoints) int16 ...\n",
       "    log10_cloud_optical_thickness  (npoints) float32 ...\n",
       "    spress                         (npoints) float32 ...\n",
       "    h2o                            (npoints) float32 ...\n",
       "    o3                             (npoints) float32 ...\n",
       "Attributes:\n",
       "    description:             Radiative transfer-based labelled training data ...\n",
       "    suffix:                  nc\n",
       "    version:                 Created 20230518\n",
       "    contact_person_address:  NASA/GSFC, Mail Code 616, 8800 Greenbelt Road, G...\n",
       "    contact_person_email:     andrew.sayer@nasa.gov\n",
       "    contact_person_name:      Andrew Sayer\n",
       "    contact_person_role:     Scientific/technical contact\n",
       "    data_set_language:       en\n",
       "    file_format:             NetCDF4</pre><div class='xr-wrap' hidden><div class='xr-header'><div class='xr-obj-type'>xarray.Dataset</div></div><ul class='xr-sections'><li class='xr-section-item'><input id='section-a1ce67a0-91cb-4bb5-a480-fe8b8d867130' class='xr-section-summary-in' type='checkbox' disabled ><label for='section-a1ce67a0-91cb-4bb5-a480-fe8b8d867130' class='xr-section-summary'  title='Expand/collapse section'>Dimensions:</label><div class='xr-section-inline-details'><ul class='xr-dim-list'><li><span>npoints</span>: 250000</li><li><span class='xr-has-index'>nbands_oci</span>: 223</li><li><span class='xr-has-index'>nbands_modis</span>: 11</li><li><span class='xr-has-index'>nbands_viirs</span>: 10</li></ul></div><div class='xr-section-details'></div></li><li class='xr-section-item'><input id='section-3241d4c6-cc04-43ce-a17e-375043ee97be' class='xr-section-summary-in' type='checkbox'  checked><label for='section-3241d4c6-cc04-43ce-a17e-375043ee97be' class='xr-section-summary' >Coordinates: <span>(3)</span></label><div class='xr-section-inline-details'></div><div class='xr-section-details'><ul class='xr-var-list'><li class='xr-var-item'><div class='xr-var-name'><span class='xr-has-index'>nbands_oci</span></div><div class='xr-var-dims'>(nbands_oci)</div><div class='xr-var-dtype'>float32</div><div class='xr-var-preview xr-preview'>350.0 352.5 ... 2.13e+03 2.261e+03</div><input id='attrs-6fc731df-2a9d-4fc3-984a-50d9faf92d14' class='xr-var-attrs-in' type='checkbox' ><label for='attrs-6fc731df-2a9d-4fc3-984a-50d9faf92d14' title='Show/Hide attributes'><svg class='icon xr-icon-file-text2'><use xlink:href='#icon-file-text2'></use></svg></label><input id='data-6cc13e37-d516-45bb-95aa-0616aa6d936a' class='xr-var-data-in' type='checkbox'><label for='data-6cc13e37-d516-45bb-95aa-0616aa6d936a' title='Show/Hide data repr'><svg class='icon xr-icon-database'><use xlink:href='#icon-database'></use></svg></label><div class='xr-var-attrs'><dl class='xr-attrs'><dt><span>long_name :</span></dt><dd>OCI band central wavelengths, nm</dd></dl></div><div class='xr-var-data'><pre>array([ 349.99408,  352.49432,  354.9942 , ..., 1616.101  , 2130.368  ,\n",
       "       2260.7073 ], dtype=float32)</pre></div></li><li class='xr-var-item'><div class='xr-var-name'><span class='xr-has-index'>nbands_modis</span></div><div class='xr-var-dims'>(nbands_modis)</div><div class='xr-var-dtype'>float32</div><div class='xr-var-preview xr-preview'>412.0 443.0 ... 1.64e+03 2.13e+03</div><input id='attrs-5c8bede5-c495-4b2c-8dcf-431d5490712f' class='xr-var-attrs-in' type='checkbox' ><label for='attrs-5c8bede5-c495-4b2c-8dcf-431d5490712f' title='Show/Hide attributes'><svg class='icon xr-icon-file-text2'><use xlink:href='#icon-file-text2'></use></svg></label><input id='data-810b25bb-d8bd-4375-9a7c-d34b7cb076bd' class='xr-var-data-in' type='checkbox'><label for='data-810b25bb-d8bd-4375-9a7c-d34b7cb076bd' title='Show/Hide data repr'><svg class='icon xr-icon-database'><use xlink:href='#icon-database'></use></svg></label><div class='xr-var-attrs'><dl class='xr-attrs'><dt><span>long_name :</span></dt><dd>MODIS band central wavelengths, nm</dd></dl></div><div class='xr-var-data'><pre>array([ 412.,  443.,  470.,  550.,  650.,  865.,  936., 1240., 1370., 1640.,\n",
       "       2130.], dtype=float32)</pre></div></li><li class='xr-var-item'><div class='xr-var-name'><span class='xr-has-index'>nbands_viirs</span></div><div class='xr-var-dims'>(nbands_viirs)</div><div class='xr-var-dtype'>float32</div><div class='xr-var-preview xr-preview'>412.0 445.0 ... 1.61e+03 2.25e+03</div><input id='attrs-b22fa3e7-5e29-48c7-9f63-e27bab10011e' class='xr-var-attrs-in' type='checkbox' ><label for='attrs-b22fa3e7-5e29-48c7-9f63-e27bab10011e' title='Show/Hide attributes'><svg class='icon xr-icon-file-text2'><use xlink:href='#icon-file-text2'></use></svg></label><input id='data-20c1748a-9483-4d77-a63b-36867f4c8d49' class='xr-var-data-in' type='checkbox'><label for='data-20c1748a-9483-4d77-a63b-36867f4c8d49' title='Show/Hide data repr'><svg class='icon xr-icon-database'><use xlink:href='#icon-database'></use></svg></label><div class='xr-var-attrs'><dl class='xr-attrs'><dt><span>long_name :</span></dt><dd>VIIRS band central wavelengths, nm</dd></dl></div><div class='xr-var-data'><pre>array([ 412.,  445.,  488.,  555.,  672.,  865., 1240., 1380., 1610., 2250.],\n",
       "      dtype=float32)</pre></div></li></ul></div></li><li class='xr-section-item'><input id='section-a03476d1-c34b-4b4d-86cd-f25e88cc9a75' class='xr-section-summary-in' type='checkbox'  checked><label for='section-a03476d1-c34b-4b4d-86cd-f25e88cc9a75' class='xr-section-summary' >Data variables: <span>(13)</span></label><div class='xr-section-inline-details'></div><div class='xr-section-details'><ul class='xr-var-list'><li class='xr-var-item'><div class='xr-var-name'><span>solar_zenith_angle</span></div><div class='xr-var-dims'>(npoints)</div><div class='xr-var-dtype'>float32</div><div class='xr-var-preview xr-preview'>...</div><input id='attrs-03fbb151-1ee6-4ddc-81fb-77521c99c003' class='xr-var-attrs-in' type='checkbox' ><label for='attrs-03fbb151-1ee6-4ddc-81fb-77521c99c003' title='Show/Hide attributes'><svg class='icon xr-icon-file-text2'><use xlink:href='#icon-file-text2'></use></svg></label><input id='data-3faafbe1-b4ce-4888-9f05-840ac5975813' class='xr-var-data-in' type='checkbox'><label for='data-3faafbe1-b4ce-4888-9f05-840ac5975813' title='Show/Hide data repr'><svg class='icon xr-icon-database'><use xlink:href='#icon-database'></use></svg></label><div class='xr-var-attrs'><dl class='xr-attrs'><dt><span>long_name :</span></dt><dd>Solar zenith angle, degrees</dd></dl></div><div class='xr-var-data'><pre>[250000 values with dtype=float32]</pre></div></li><li class='xr-var-item'><div class='xr-var-name'><span>viewing_zenith_angle</span></div><div class='xr-var-dims'>(npoints)</div><div class='xr-var-dtype'>float32</div><div class='xr-var-preview xr-preview'>...</div><input id='attrs-a7d38e1a-5ac7-4ced-8552-48419cc28140' class='xr-var-attrs-in' type='checkbox' ><label for='attrs-a7d38e1a-5ac7-4ced-8552-48419cc28140' title='Show/Hide attributes'><svg class='icon xr-icon-file-text2'><use xlink:href='#icon-file-text2'></use></svg></label><input id='data-5c938edf-2c90-4d34-a5f1-207d5f801ff9' class='xr-var-data-in' type='checkbox'><label for='data-5c938edf-2c90-4d34-a5f1-207d5f801ff9' title='Show/Hide data repr'><svg class='icon xr-icon-database'><use xlink:href='#icon-database'></use></svg></label><div class='xr-var-attrs'><dl class='xr-attrs'><dt><span>long_name :</span></dt><dd>Viewing (sensor) zenith angle, degrees</dd></dl></div><div class='xr-var-data'><pre>[250000 values with dtype=float32]</pre></div></li><li class='xr-var-item'><div class='xr-var-name'><span>relative_azimuth_angle</span></div><div class='xr-var-dims'>(npoints)</div><div class='xr-var-dtype'>float32</div><div class='xr-var-preview xr-preview'>...</div><input id='attrs-4f25a3c2-6a80-4b6e-bfa5-3325caadc2c4' class='xr-var-attrs-in' type='checkbox' ><label for='attrs-4f25a3c2-6a80-4b6e-bfa5-3325caadc2c4' title='Show/Hide attributes'><svg class='icon xr-icon-file-text2'><use xlink:href='#icon-file-text2'></use></svg></label><input id='data-891d8381-aeac-4e65-8022-42672416ee06' class='xr-var-data-in' type='checkbox'><label for='data-891d8381-aeac-4e65-8022-42672416ee06' title='Show/Hide data repr'><svg class='icon xr-icon-database'><use xlink:href='#icon-database'></use></svg></label><div class='xr-var-attrs'><dl class='xr-attrs'><dt><span>long_name :</span></dt><dd>Relative azimuth angle, degrees</dd></dl></div><div class='xr-var-data'><pre>[250000 values with dtype=float32]</pre></div></li><li class='xr-var-item'><div class='xr-var-name'><span>albedo_type</span></div><div class='xr-var-dims'>(npoints)</div><div class='xr-var-dtype'>int16</div><div class='xr-var-preview xr-preview'>...</div><input id='attrs-b2a76ac9-34c6-4b94-af26-9c4752c13c8e' class='xr-var-attrs-in' type='checkbox' ><label for='attrs-b2a76ac9-34c6-4b94-af26-9c4752c13c8e' title='Show/Hide attributes'><svg class='icon xr-icon-file-text2'><use xlink:href='#icon-file-text2'></use></svg></label><input id='data-05de8d2c-2326-4d72-bdaa-3695f048880f' class='xr-var-data-in' type='checkbox'><label for='data-05de8d2c-2326-4d72-bdaa-3695f048880f' title='Show/Hide data repr'><svg class='icon xr-icon-database'><use xlink:href='#icon-database'></use></svg></label><div class='xr-var-attrs'><dl class='xr-attrs'><dt><span>long_name :</span></dt><dd>Surface spectral albedo category (1-20). 1 evergreen_needle_forest; 2 evergreen_broad_forest; 3 deciduous_needle_forest; 4 deciduous_broad_forest; 5 mixed_forest; 6 closed_shrub; 7 open_shrubs; 8 woody_savanna; 9 savanna; 10 grassland; 11 wetland; 12 cropland; 13 urban; 14 crop_mosaic; 15 antarctic_snow; 16 desert; 17 ocean_water; 18 tundra; 19 fresh_snow; 20 sea_ice</dd></dl></div><div class='xr-var-data'><pre>[250000 values with dtype=int16]</pre></div></li><li class='xr-var-item'><div class='xr-var-name'><span>oci_reflectances</span></div><div class='xr-var-dims'>(nbands_oci, npoints)</div><div class='xr-var-dtype'>float32</div><div class='xr-var-preview xr-preview'>...</div><input id='attrs-288bbd01-36a5-4edc-9abc-738778900fd7' class='xr-var-attrs-in' type='checkbox' ><label for='attrs-288bbd01-36a5-4edc-9abc-738778900fd7' title='Show/Hide attributes'><svg class='icon xr-icon-file-text2'><use xlink:href='#icon-file-text2'></use></svg></label><input id='data-75d39e72-d02e-4dae-86a5-198f45fff348' class='xr-var-data-in' type='checkbox'><label for='data-75d39e72-d02e-4dae-86a5-198f45fff348' title='Show/Hide data repr'><svg class='icon xr-icon-database'><use xlink:href='#icon-database'></use></svg></label><div class='xr-var-attrs'><dl class='xr-attrs'><dt><span>long_name :</span></dt><dd>Spectral top of atmosphere reflectance for OCI bands</dd></dl></div><div class='xr-var-data'><pre>[55750000 values with dtype=float32]</pre></div></li><li class='xr-var-item'><div class='xr-var-name'><span>modis_reflectances</span></div><div class='xr-var-dims'>(nbands_modis, npoints)</div><div class='xr-var-dtype'>float32</div><div class='xr-var-preview xr-preview'>...</div><input id='attrs-d1da576b-36f7-4dc5-a1c0-1d81f7e76692' class='xr-var-attrs-in' type='checkbox' ><label for='attrs-d1da576b-36f7-4dc5-a1c0-1d81f7e76692' title='Show/Hide attributes'><svg class='icon xr-icon-file-text2'><use xlink:href='#icon-file-text2'></use></svg></label><input id='data-d625ddd6-5ff3-4f6a-8b42-3c3dbe4ce929' class='xr-var-data-in' type='checkbox'><label for='data-d625ddd6-5ff3-4f6a-8b42-3c3dbe4ce929' title='Show/Hide data repr'><svg class='icon xr-icon-database'><use xlink:href='#icon-database'></use></svg></label><div class='xr-var-attrs'><dl class='xr-attrs'><dt><span>long_name :</span></dt><dd>Spectral top of atmosphere reflectance for MODIS bands</dd></dl></div><div class='xr-var-data'><pre>[2750000 values with dtype=float32]</pre></div></li><li class='xr-var-item'><div class='xr-var-name'><span>viirs_reflectances</span></div><div class='xr-var-dims'>(nbands_viirs, npoints)</div><div class='xr-var-dtype'>float32</div><div class='xr-var-preview xr-preview'>...</div><input id='attrs-6c838e2d-d41c-4e95-b235-e975920b495b' class='xr-var-attrs-in' type='checkbox' ><label for='attrs-6c838e2d-d41c-4e95-b235-e975920b495b' title='Show/Hide attributes'><svg class='icon xr-icon-file-text2'><use xlink:href='#icon-file-text2'></use></svg></label><input id='data-d5f91533-7116-42b4-a379-a7457e354138' class='xr-var-data-in' type='checkbox'><label for='data-d5f91533-7116-42b4-a379-a7457e354138' title='Show/Hide data repr'><svg class='icon xr-icon-database'><use xlink:href='#icon-database'></use></svg></label><div class='xr-var-attrs'><dl class='xr-attrs'><dt><span>long_name :</span></dt><dd>Spectral top of atmosphere reflectance for VIIRS bands</dd></dl></div><div class='xr-var-data'><pre>[2500000 values with dtype=float32]</pre></div></li><li class='xr-var-item'><div class='xr-var-name'><span>scene_type</span></div><div class='xr-var-dims'>(npoints)</div><div class='xr-var-dtype'>int16</div><div class='xr-var-preview xr-preview'>...</div><input id='attrs-1889a3af-e3cc-45f8-a2a4-4f7c3b6488a8' class='xr-var-attrs-in' type='checkbox' ><label for='attrs-1889a3af-e3cc-45f8-a2a4-4f7c3b6488a8' title='Show/Hide attributes'><svg class='icon xr-icon-file-text2'><use xlink:href='#icon-file-text2'></use></svg></label><input id='data-67222be8-2f8a-46cb-8ec7-39ba5e5fc3b0' class='xr-var-data-in' type='checkbox'><label for='data-67222be8-2f8a-46cb-8ec7-39ba5e5fc3b0' title='Show/Hide data repr'><svg class='icon xr-icon-database'><use xlink:href='#icon-database'></use></svg></label><div class='xr-var-attrs'><dl class='xr-attrs'><dt><span>long_name :</span></dt><dd>Type of scene simulated. 1 cloud free; 2 single cloud layer</dd></dl></div><div class='xr-var-data'><pre>[250000 values with dtype=int16]</pre></div></li><li class='xr-var-item'><div class='xr-var-name'><span>cloud_type</span></div><div class='xr-var-dims'>(npoints)</div><div class='xr-var-dtype'>int16</div><div class='xr-var-preview xr-preview'>...</div><input id='attrs-354cbf25-a327-404f-870d-3036eb560d0c' class='xr-var-attrs-in' type='checkbox' ><label for='attrs-354cbf25-a327-404f-870d-3036eb560d0c' title='Show/Hide attributes'><svg class='icon xr-icon-file-text2'><use xlink:href='#icon-file-text2'></use></svg></label><input id='data-dbae89f2-0b6b-479a-8012-5aa868a0b861' class='xr-var-data-in' type='checkbox'><label for='data-dbae89f2-0b6b-479a-8012-5aa868a0b861' title='Show/Hide data repr'><svg class='icon xr-icon-database'><use xlink:href='#icon-database'></use></svg></label><div class='xr-var-attrs'><dl class='xr-attrs'><dt><span>long_name :</span></dt><dd>Type of cloud simulated. 1 liquid phase; 2 ice crystal (one of various possible habits)</dd></dl></div><div class='xr-var-data'><pre>[250000 values with dtype=int16]</pre></div></li><li class='xr-var-item'><div class='xr-var-name'><span>log10_cloud_optical_thickness</span></div><div class='xr-var-dims'>(npoints)</div><div class='xr-var-dtype'>float32</div><div class='xr-var-preview xr-preview'>...</div><input id='attrs-1c9d8298-0859-4966-afac-037f28b96654' class='xr-var-attrs-in' type='checkbox' ><label for='attrs-1c9d8298-0859-4966-afac-037f28b96654' title='Show/Hide attributes'><svg class='icon xr-icon-file-text2'><use xlink:href='#icon-file-text2'></use></svg></label><input id='data-1e1c1b67-ddfe-42d2-803f-8e3b9fc7152b' class='xr-var-data-in' type='checkbox'><label for='data-1e1c1b67-ddfe-42d2-803f-8e3b9fc7152b' title='Show/Hide data repr'><svg class='icon xr-icon-database'><use xlink:href='#icon-database'></use></svg></label><div class='xr-var-attrs'><dl class='xr-attrs'><dt><span>long_name :</span></dt><dd>Base 10 logarithm of cloud optical thickness</dd></dl></div><div class='xr-var-data'><pre>[250000 values with dtype=float32]</pre></div></li><li class='xr-var-item'><div class='xr-var-name'><span>spress</span></div><div class='xr-var-dims'>(npoints)</div><div class='xr-var-dtype'>float32</div><div class='xr-var-preview xr-preview'>...</div><input id='attrs-02a1e163-c8c6-4941-a512-7fa1717435a2' class='xr-var-attrs-in' type='checkbox' ><label for='attrs-02a1e163-c8c6-4941-a512-7fa1717435a2' title='Show/Hide attributes'><svg class='icon xr-icon-file-text2'><use xlink:href='#icon-file-text2'></use></svg></label><input id='data-0977f436-bd7c-49c2-8876-a7601cdf03b8' class='xr-var-data-in' type='checkbox'><label for='data-0977f436-bd7c-49c2-8876-a7601cdf03b8' title='Show/Hide data repr'><svg class='icon xr-icon-database'><use xlink:href='#icon-database'></use></svg></label><div class='xr-var-attrs'><dl class='xr-attrs'><dt><span>long_name :</span></dt><dd>Surface pressure, mbar</dd></dl></div><div class='xr-var-data'><pre>[250000 values with dtype=float32]</pre></div></li><li class='xr-var-item'><div class='xr-var-name'><span>h2o</span></div><div class='xr-var-dims'>(npoints)</div><div class='xr-var-dtype'>float32</div><div class='xr-var-preview xr-preview'>...</div><input id='attrs-2b00d161-663c-4ce9-b329-3133458caa3b' class='xr-var-attrs-in' type='checkbox' ><label for='attrs-2b00d161-663c-4ce9-b329-3133458caa3b' title='Show/Hide attributes'><svg class='icon xr-icon-file-text2'><use xlink:href='#icon-file-text2'></use></svg></label><input id='data-a5602faf-8f04-47b3-b312-baf144d0ccbb' class='xr-var-data-in' type='checkbox'><label for='data-a5602faf-8f04-47b3-b312-baf144d0ccbb' title='Show/Hide data repr'><svg class='icon xr-icon-database'><use xlink:href='#icon-database'></use></svg></label><div class='xr-var-attrs'><dl class='xr-attrs'><dt><span>long_name :</span></dt><dd>Total column water vapour, mm</dd></dl></div><div class='xr-var-data'><pre>[250000 values with dtype=float32]</pre></div></li><li class='xr-var-item'><div class='xr-var-name'><span>o3</span></div><div class='xr-var-dims'>(npoints)</div><div class='xr-var-dtype'>float32</div><div class='xr-var-preview xr-preview'>...</div><input id='attrs-a65eb1dc-d8ec-47ec-906c-0d4dc9e6c71e' class='xr-var-attrs-in' type='checkbox' ><label for='attrs-a65eb1dc-d8ec-47ec-906c-0d4dc9e6c71e' title='Show/Hide attributes'><svg class='icon xr-icon-file-text2'><use xlink:href='#icon-file-text2'></use></svg></label><input id='data-3faebfc3-2481-4070-8e86-715a2b617d03' class='xr-var-data-in' type='checkbox'><label for='data-3faebfc3-2481-4070-8e86-715a2b617d03' title='Show/Hide data repr'><svg class='icon xr-icon-database'><use xlink:href='#icon-database'></use></svg></label><div class='xr-var-attrs'><dl class='xr-attrs'><dt><span>long_name :</span></dt><dd>Total column ozone, DU</dd></dl></div><div class='xr-var-data'><pre>[250000 values with dtype=float32]</pre></div></li></ul></div></li><li class='xr-section-item'><input id='section-434e46b3-2ae2-45f0-b901-4e93a5e4f18e' class='xr-section-summary-in' type='checkbox'  checked><label for='section-434e46b3-2ae2-45f0-b901-4e93a5e4f18e' class='xr-section-summary' >Attributes: <span>(9)</span></label><div class='xr-section-inline-details'></div><div class='xr-section-details'><dl class='xr-attrs'><dt><span>description :</span></dt><dd>Radiative transfer-based labelled training data for neural network cloud mask / optical thickness</dd><dt><span>suffix :</span></dt><dd>nc</dd><dt><span>version :</span></dt><dd>Created 20230518</dd><dt><span>contact_person_address :</span></dt><dd>NASA/GSFC, Mail Code 616, 8800 Greenbelt Road, Greenbelt, MD 20771</dd><dt><span>contact_person_email :</span></dt><dd> andrew.sayer@nasa.gov</dd><dt><span>contact_person_name :</span></dt><dd> Andrew Sayer</dd><dt><span>contact_person_role :</span></dt><dd>Scientific/technical contact</dd><dt><span>data_set_language :</span></dt><dd>en</dd><dt><span>file_format :</span></dt><dd>NetCDF4</dd></dl></div></li></ul></div></div>"
      ],
      "text/plain": [
       "<xarray.Dataset>\n",
       "Dimensions:                        (npoints: 250000, nbands_oci: 223, nbands_modis: 11, nbands_viirs: 10)\n",
       "Coordinates:\n",
       "  * nbands_oci                     (nbands_oci) float32 350.0 ... 2.261e+03\n",
       "  * nbands_modis                   (nbands_modis) float32 412.0 ... 2.13e+03\n",
       "  * nbands_viirs                   (nbands_viirs) float32 412.0 ... 2.25e+03\n",
       "Dimensions without coordinates: npoints\n",
       "Data variables: (12/13)\n",
       "    solar_zenith_angle             (npoints) float32 ...\n",
       "    viewing_zenith_angle           (npoints) float32 ...\n",
       "    relative_azimuth_angle         (npoints) float32 ...\n",
       "    albedo_type                    (npoints) int16 ...\n",
       "    oci_reflectances               (nbands_oci, npoints) float32 ...\n",
       "    modis_reflectances             (nbands_modis, npoints) float32 ...\n",
       "    ...                             ...\n",
       "    scene_type                     (npoints) int16 ...\n",
       "    cloud_type                     (npoints) int16 ...\n",
       "    log10_cloud_optical_thickness  (npoints) float32 ...\n",
       "    spress                         (npoints) float32 ...\n",
       "    h2o                            (npoints) float32 ...\n",
       "    o3                             (npoints) float32 ...\n",
       "Attributes:\n",
       "    description:             Radiative transfer-based labelled training data ...\n",
       "    suffix:                  nc\n",
       "    version:                 Created 20230518\n",
       "    contact_person_address:  NASA/GSFC, Mail Code 616, 8800 Greenbelt Road, G...\n",
       "    contact_person_email:     andrew.sayer@nasa.gov\n",
       "    contact_person_name:      Andrew Sayer\n",
       "    contact_person_role:     Scientific/technical contact\n",
       "    data_set_language:       en\n",
       "    file_format:             NetCDF4"
      ]
     },
     "execution_count": 2,
     "metadata": {},
     "output_type": "execute_result"
    }
   ],
   "source": [
    "file_path ='data/rt_nn_cloud_training_data_20230518.nc'\n",
    "ds = xr.open_dataset(file_path)\n",
    "ds"
   ]
  },
  {
   "cell_type": "code",
   "execution_count": 3,
   "metadata": {},
   "outputs": [],
   "source": [
    "# Define variables\n",
    "oci_reflectances = ds[\"oci_reflectances\"].values \n",
    "modis_reflectances = ds[\"modis_reflectances\"].values \n",
    "viirs_reflectances = ds[\"viirs_reflectances\"].values \n",
    "nbands_oci = ds[\"nbands_oci\"].values\n",
    "nbands_modis = ds[\"nbands_modis\"].values\n",
    "nbands_viirs = ds[\"nbands_viirs\"].values\n",
    "angles = ds[[\"solar_zenith_angle\", \"viewing_zenith_angle\", \"relative_azimuth_angle\"]].to_array().values\n",
    "h2o = ds[\"h2o\"].values\n",
    "o3 = ds[\"o3\"].values\n",
    "scene_type = ds[\"scene_type\"].values\n",
    "albedo_type = ds[\"albedo_type\"].values\n",
    "spress = ds[\"spress\"].values\n",
    "cot = ds[\"log10_cloud_optical_thickness\"].values\n",
    "cloud_type = ds[\"cloud_type\"].values"
   ]
  },
  {
   "attachments": {},
   "cell_type": "markdown",
   "metadata": {},
   "source": [
    "### Data preprocess"
   ]
  },
  {
   "cell_type": "code",
   "execution_count": 4,
   "metadata": {},
   "outputs": [],
   "source": [
    "# Define a minmax scaler\n",
    "def minmaxscaler(reflectances):\n",
    "        if len(reflectances.shape) == 1:\n",
    "                reflectances_sc = (reflectances-reflectances.min())/(reflectances.max() - reflectances.min())\n",
    "        else:\n",
    "                reflectances_sc = []\n",
    "                for i in range(len(reflectances)):\n",
    "                        reflectances_sc_tem = (reflectances[i]-reflectances[i].min())/(reflectances[i].max()-reflectances[i].min())\n",
    "                        reflectances_sc.append(reflectances_sc_tem)\n",
    "        return np.array(reflectances_sc)\n",
    "                "
   ]
  },
  {
   "cell_type": "code",
   "execution_count": 5,
   "metadata": {},
   "outputs": [],
   "source": [
    "# Define labels for albedo type\n",
    "land = [1,2,3,4,5,6,7,8,9,10,11,12,13,14,18]\n",
    "snow = [15,19,20]\n",
    "desert = [16, 16]\n",
    "ocean_water = [17, 17]\n",
    "albedo = [land, snow, desert, ocean_water]\n",
    "\n",
    "def albedo_category(albedo_type):\n",
    "    albedo_type_sc = []\n",
    "    for k in range(len(albedo)):\n",
    "        i = 0\n",
    "        albedo_1hot = []\n",
    "        for i in range(len(albedo_type)):\n",
    "            if albedo_type[i] in albedo[k]:\n",
    "                albedo_1hot.append(1)\n",
    "            else:\n",
    "                albedo_1hot.append(0)\n",
    "        albedo_type_sc.append(albedo_1hot)\n",
    "    return np.array(albedo_type_sc)"
   ]
  },
  {
   "cell_type": "code",
   "execution_count": 6,
   "metadata": {},
   "outputs": [],
   "source": [
    "\"\"\"\n",
    "Reflectances, h2o, o3, spress: minmax normalize to [0,1]\n",
    "Angles: take cosine and normalize to [0,1]\n",
    "albedo_type: break down into 4 categories\n",
    "\n",
    "y1 - scen_type: change values from [1, 2] to [0,1]\n",
    "y2 - cot: set 0 as -2\n",
    "\"\"\"\n",
    "oci_reflectances_sc = minmaxscaler(oci_reflectances)\n",
    "h2o_sc = minmaxscaler(h2o)\n",
    "o3_sc = minmaxscaler(o3)\n",
    "spress_sc = minmaxscaler(spress)\n",
    "angles_sc = minmaxscaler(np.cos(angles))\n",
    "albedo_type_sc = np.float32(albedo_category(albedo_type))"
   ]
  },
  {
   "cell_type": "code",
   "execution_count": 7,
   "metadata": {},
   "outputs": [],
   "source": [
    "\"\"\"\n",
    "scene_type: 1 cloud free; 2 single cloud layer\n",
    "cloud_type: 1 liquid phase; 2 ice crystal\n",
    "1-hot array: [0]: cloud-free, [1]: liquid, [2]: ice\n",
    "\"\"\"\n",
    "scene_type_1hot = []\n",
    "for i in range(len(scene_type)):\n",
    "    # cloud-free\n",
    "    if scene_type[i] == 1:\n",
    "        scene_type_1hot.append([1,0,0])\n",
    "    elif scene_type[i] == 2:\n",
    "        # cloud-liquid\n",
    "        if cloud_type[i] == 1:\n",
    "            scene_type_1hot.append([0,1,0])\n",
    "        # cloud-ice\n",
    "        elif cloud_type[i] == 2:\n",
    "            scene_type_1hot.append([0,0,1])"
   ]
  },
  {
   "cell_type": "code",
   "execution_count": 8,
   "metadata": {},
   "outputs": [
    {
     "name": "stdout",
     "output_type": "stream",
     "text": [
      "Counts of cloud-free: 75239 Percentage: 30.0956\n",
      "Counts of liquid phase: 87362 Percentage: 34.9448\n",
      "Counts of ice crystal: 87399 Percentage: 34.9596\n",
      "Sum of liquid and ice cloud: 174761\n"
     ]
    }
   ],
   "source": [
    "transed_scene = np.transpose(scene_type_1hot)\n",
    "# Count of cloud-free\n",
    "print(f'Counts of cloud-free: {np.sum(transed_scene[0])} Percentage: {np.sum(transed_scene[0]) / len(scene_type)*100}')\n",
    "# Count of cloud == 1\n",
    "print(f'Counts of liquid phase: {np.sum(transed_scene[1])} Percentage: {np.sum(transed_scene[1]) / len(scene_type)*100}')\n",
    "# Count of cloud == 2\n",
    "np.sum(transed_scene[2])\n",
    "print(f'Counts of ice crystal: {np.sum(transed_scene[2])} Percentage: {np.sum(transed_scene[2]) / len(scene_type)*100}')\n",
    "# Count of cloud == 1 and cloud == 2\n",
    "print(f'Sum of liquid and ice cloud: {np.sum(transed_scene[2])+ np.sum(transed_scene[1])}')"
   ]
  },
  {
   "cell_type": "code",
   "execution_count": 9,
   "metadata": {},
   "outputs": [],
   "source": [
    "scene_type_sc = minmaxscaler(np.array(scene_type_1hot))\n",
    "scene_type_sc = np.float32(scene_type_sc)\n",
    "\n",
    "cot_sc = np.nan_to_num(cot, nan=-2) \n",
    "max_value = cot_sc.max()\n",
    "min_value = cot_sc.min()\n",
    "cot_sc = minmaxscaler(cot_sc)"
   ]
  },
  {
   "cell_type": "code",
   "execution_count": 10,
   "metadata": {},
   "outputs": [
    {
     "data": {
      "text/plain": [
       "2.5"
      ]
     },
     "execution_count": 10,
     "metadata": {},
     "output_type": "execute_result"
    }
   ],
   "source": [
    "max_value"
   ]
  },
  {
   "cell_type": "code",
   "execution_count": 11,
   "metadata": {},
   "outputs": [
    {
     "data": {
      "text/plain": [
       "-2.0"
      ]
     },
     "execution_count": 11,
     "metadata": {},
     "output_type": "execute_result"
    }
   ],
   "source": [
    "min_value"
   ]
  },
  {
   "attachments": {},
   "cell_type": "markdown",
   "metadata": {},
   "source": [
    "## Concatenate variables and split training-testing dataset"
   ]
  },
  {
   "cell_type": "code",
   "execution_count": 12,
   "metadata": {},
   "outputs": [],
   "source": [
    "X = np.concatenate((oci_reflectances_sc, h2o_sc[None, :], o3_sc[None, :], spress_sc[None, :], albedo_type_sc, angles_sc), axis=0) # n x m, where n = 22\n",
    "# X = np.transpose(X) # transpose into a m x n matrix , n = 22 (aka features) and m = rows (aka observations)\n",
    "X = np.float32(X)\n",
    "# Y represents the response vector (binary),,,, m by 1, m = rows (aka observations)\n",
    "Y_cls = scene_type_sc\n",
    "Y_reg = cot_sc\n",
    "Y = np.concatenate((Y_cls, np.transpose(Y_reg[None, :])), axis=1)"
   ]
  },
  {
   "cell_type": "code",
   "execution_count": 22,
   "metadata": {},
   "outputs": [
    {
     "data": {
      "text/plain": [
       "(4, 250000)"
      ]
     },
     "execution_count": 22,
     "metadata": {},
     "output_type": "execute_result"
    }
   ],
   "source": [
    "albedo_type_sc.shape"
   ]
  },
  {
   "cell_type": "code",
   "execution_count": 21,
   "metadata": {},
   "outputs": [
    {
     "data": {
      "text/plain": [
       "(3, 250000)"
      ]
     },
     "execution_count": 21,
     "metadata": {},
     "output_type": "execute_result"
    }
   ],
   "source": [
    "angles_sc.shape"
   ]
  },
  {
   "cell_type": "code",
   "execution_count": 20,
   "metadata": {},
   "outputs": [
    {
     "data": {
      "text/plain": [
       "(223, 250000)"
      ]
     },
     "execution_count": 20,
     "metadata": {},
     "output_type": "execute_result"
    }
   ],
   "source": [
    "oci_reflectances_sc.shape"
   ]
  },
  {
   "cell_type": "code",
   "execution_count": 13,
   "metadata": {},
   "outputs": [
    {
     "name": "stdout",
     "output_type": "stream",
     "text": [
      "(233, 250000) (250000, 4)\n"
     ]
    }
   ],
   "source": [
    "print(X.shape, Y.shape)"
   ]
  },
  {
   "cell_type": "code",
   "execution_count": 14,
   "metadata": {},
   "outputs": [],
   "source": [
    "X = np.transpose(X)"
   ]
  },
  {
   "cell_type": "code",
   "execution_count": 15,
   "metadata": {},
   "outputs": [
    {
     "name": "stdout",
     "output_type": "stream",
     "text": [
      "(250000, 233) (250000, 4)\n"
     ]
    }
   ],
   "source": [
    "print(X.shape, Y.shape)"
   ]
  },
  {
   "cell_type": "code",
   "execution_count": 16,
   "metadata": {},
   "outputs": [],
   "source": [
    "X_train, X_test, y_train, y_test = train_test_split(X, Y, test_size=0.1, random_state=42)\n",
    "X_train, X_val, y_train, y_val = train_test_split(X_train, y_train, test_size=0.25, random_state=1) "
   ]
  },
  {
   "attachments": {},
   "cell_type": "markdown",
   "metadata": {},
   "source": [
    "# Prepare Data for Training"
   ]
  },
  {
   "cell_type": "code",
   "execution_count": 17,
   "metadata": {},
   "outputs": [],
   "source": [
    "X_train_t = torch.from_numpy(X_train.astype(np.float32))\n",
    "y_train_t = torch.from_numpy(y_train.astype(np.float32))\n",
    "\n",
    "X_val_t = torch.from_numpy(X_val.astype(np.float32))\n",
    "y_val_t = torch.from_numpy(y_val.astype(np.float32))\n",
    "\n",
    "X_test_t = torch.from_numpy(X_test.astype(np.float32))\n",
    "y_test_t = torch.from_numpy(y_test.astype(np.float32))"
   ]
  },
  {
   "cell_type": "code",
   "execution_count": 18,
   "metadata": {},
   "outputs": [],
   "source": [
    "torch.save(X_train_t, 'data/X_train_t.pt')\n",
    "torch.save(y_train_t, 'data/y_train_t.pt')\n",
    "torch.save(X_val_t, 'data/X_val_t.pt')\n",
    "torch.save(y_val_t, 'data/y_val_t.pt')\n",
    "torch.save(X_test_t, 'data/X_test_t.pt')\n",
    "torch.save(y_test_t, 'data/y_test_t.pt')"
   ]
  }
 ],
 "metadata": {
  "kernelspec": {
   "display_name": "gestar2",
   "language": "python",
   "name": "python3"
  },
  "language_info": {
   "codemirror_mode": {
    "name": "ipython",
    "version": 3
   },
   "file_extension": ".py",
   "mimetype": "text/x-python",
   "name": "python",
   "nbconvert_exporter": "python",
   "pygments_lexer": "ipython3",
   "version": "3.8.17"
  },
  "orig_nbformat": 4,
  "vscode": {
   "interpreter": {
    "hash": "1e0a89b39db2c9718d5c925e819b1fb241ef2aa9ae69ce90b0ee737d9a6a37ce"
   }
  }
 },
 "nbformat": 4,
 "nbformat_minor": 2
}
